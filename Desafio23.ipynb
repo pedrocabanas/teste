{
 "cells": [
  {
   "cell_type": "markdown",
   "metadata": {},
   "source": [
    "# Desafio 2\n",
    "\n",
    "## Instruções básicas\n",
    "\n",
    "O desafio 2 é sobre a extração, limpeza e manipulação de dados no INEP sobre o Censo da Educação Superior. Estão apresentados abaixo um artigo de 2016 sobre a divulgação dos dados, assim como um vídeo sobre esta masma divulgação, da edição de 2015. Além disso, está oferecido o Manual de Instruções da última edição publicada, de 2017.\n",
    "\n",
    "Ao final, são colocadas as questões do desafio em duas partes, a primeira coletiva para ser feita em grupo, e a segunda para ser feita individual. Qualquer dúvida ou comentário, por favor procure o corpo docente."
   ]
  },
  {
   "cell_type": "markdown",
   "metadata": {},
   "source": [
    "# MEC e Inep divulgam dados do Censo da Educação Superior 2016\n",
    "\n",
    "<br>\n",
    "<img src=\"img/inep.png\" width=\"550\" />\n",
    "<br>\n",
    "\n",
    "\n",
    "Em 2016, 34.366 cursos de graduação foram ofertados em 2.407 instituições de educação superior (IES) no Brasil para um total de 8.052.254 estudantes matriculados. Os dados são do Censo da Educação Superior e foram divulgados nesta quinta feira (31) em coletiva de imprensa com a presença do ministro da Educação, Mendonça Filho, da secretária executiva do Ministério da Educação (Mec), Maria Helena Guimarães de Castro, e da presidente do Instituto Nacional de Estudos e Estatísticas Educacionais Anísio Teixeira (Inep), Maria Inês Fini.\n",
    "\n",
    "Segundo as estatísticas apresentadas, as 197 universidades existentes no país equivalem a 8,2% do total de IES, mas concentram 53,7% das matrículas em cursos de graduação.\n",
    "\n",
    "No ano passado, o número de matrículas na educação superior (graduação e sequencial) continuou crescendo, mas essa tendência desacelerou quando se comparado aos últimos anos. Entre 2006 e 2016, houve aumento de 62,8%, com uma média anual de 5% de crescimento. Porém, em relação a 2015, a variação positiva foi de apenas 0,2%.\n",
    "\n",
    "## Cursos\n",
    "\n",
    "Os cursos de bacharelado mantêm sua predominância na educação superior brasileira com uma participação de 69% das matrículas. Os cursos de licenciatura tiveram o maior crescimento (3,3%) entre os graus acadêmicos em 2016, quando comparado a 2015.\n",
    "\n",
    "## Vagas\n",
    "\n",
    "Em 2016, foram oferecidas mais de 10,6 milhões de vagas em cursos de graduação, sendo 73,8% vagas novas e 26,0%, vagas remanescentes. Das novas vagas oferecidas no ano passado, 33,5% foram preenchidas, enquanto apenas 12,0% das vagas remanescentes foram ocupadas no mesmo período.\n",
    "\n",
    "## Ingressantes\n",
    "\n",
    "Em 2016, quase 3 milhões de alunos ingressaram em cursos de educação superior de graduação. Desse total, 82,3% em instituições privadas.\n",
    "Após uma queda observada em 2015, o número de ingressantes teve um crescimento de 2,2% em 2016. Isso ocorreu porque a modalidade a distância aumentou mais de 20% entre os dois anos, enquanto nos cursos presenciais houve um decréscimo no número de ingressantes de 3,7%.\n",
    "\n",
    "## Concluintes\n",
    "\n",
    "No ano passado, mais de um 1,1 milhão de estudantes concluíram a educação superior. O número de concluintes em cursos de graduação presencial teve aumento de 2,4% em relação a 2015. A modalidade a distância diminuiu -1,3% no mesmo período.\n",
    "\n",
    "Entre 2015 e 2016, o número de concluintes na rede pública aumentou 2,9%. Já na rede privada a variação positiva foi de 1,4%. No período de 2006 a 2016, a variação percentual do número de concluintes em cursos de graduação foi maior na rede privada, com 62,6%, enquanto na pública esse crescimento foi de 26,5% no mesmo período.\n",
    "\n",
    "## Censo da Educação Superior\n",
    "\n",
    "O Censo da Educação Superior, realizado anualmente pelo Instituto Nacional de Estudos e Pesquisas Educacionais Anísio Teixeira (Inep), constitui-se importante instrumento de obtenção de dados para a geração de informações que subsidiam a formulação, o monitoramento e a avaliação das políticas públicas, além de ser elemento importante para elaboração de estudos e pesquisas sobre o setor. O Censo coleta informações sobre as Instituições de Educação Superior (IES), os cursos de graduação e sequenciais de formação específica e sobre os discentes e docentes vinculados a esses cursos.\n",
    "\n",
    "Os resultados coletados subsidiam o Sistema Nacional de Avaliação da Educação Superior (Sinaes), seja no cálculo dos indicadores de Conceito Preliminar de Curso (CPC) e do Índice Geral de Cursos (IGC), seja no fornecimento de informações, como número de matrículas, de ingressos, de concluintes, entre outras. As estatísticas possibilitam ainda, através da justaposição de informações de diferentes edições da pesquisa, a análise da trajetória dos estudantes a partir de seu ingresso em determinado curso de graduação, e, consequentemente, a geração de indicadores de acompanhamento e de fluxo na educação superior."
   ]
  },
  {
   "cell_type": "code",
   "execution_count": null,
   "metadata": {},
   "outputs": [],
   "source": [
    "# Vídeo sobre a divulgação dos resultados do Censo da Educação Superior da edição de 2015\n",
    "\n",
    "from IPython.display import HTML\n",
    "\n",
    "\n",
    "HTML('<iframe width=\"640\" height=\"360\" src=\"https://www.youtube.com/embed/31rWZN5D_YE\" frameborder=\"0\" allow=\"accelerometer; autoplay; encrypted-media; gyroscope; picture-in-picture\" allowfullscreen></iframe>')"
   ]
  },
  {
   "cell_type": "markdown",
   "metadata": {},
   "source": [
    "# Microdados do Censo da Educação Superior 2017 \n",
    "\n",
    "## Manual do Usuário \n",
    "\n",
    "### Ministério da Educação Instituto Nacional de Estudos e Pesquisas Educacionais Anísio Teixeira – INEP Diretoria de Estatísticas Educacionais \n",
    "\n",
    "O Instituto Nacional de Estudos e Pesquisas Educacionais Anísio Teixeira (Inep), autarquia vinculada ao Ministério da Educação, tem como missão institucional produzir e disseminar informações educacionais. As estatísticas e avaliações produzidas pelo Inep visam fornecer os subsídios para a formulação e implementação de políticas voltadas para a melhoria contínua da educação no país. \n",
    "\n",
    "Entre as informações educacionais produzidas pelo Inep, destacam-se os dados coletados no Censo da Educação Superior, levantamento de âmbito nacional, realizado anualmente pela Diretoria de Estatísticas Educacionais em todas as Instituições de Educação Superior (IES), públicas e privadas do país. \n",
    "\n",
    "O Inep desenvolve uma série de ações de disseminação de dados que se encontram divulgados de forma ativa no portal do instituto na internet (www.inep.gov.br ). O presente documento figura entre os instrumentos utilizados por este Instituto para garantir a transparência requerida pela sociedade e promover a participação dos diferentes agentes sociais envolvidos nas ações educativas. \n",
    "\n",
    "Nesse contexto, os Microdados foram estruturados em formato CSV (CommaSeparated Values) e seus dados estão delimitados por Pipe ( | ), de modo a garantir que praticamente qualquer software estatístico, inclusive open source, consiga importar e carregar as bases de dados. \n",
    "\n",
    "Por meio dos Microdados é possível obter um amplo panorama da educação brasileira e, como importante ferramenta de transparência, é indubitavelmente um rico acervo sobre a educação superior do nosso país e uma fonte segura e eficaz de obtenção de dados, acessíveis aos pesquisadores, estudantes, gestores e sociedade em geral. \n",
    "\n",
    "#### DADOS \n",
    "\n",
    "Estão disponíveis no site do Inep os Microdados do Censo da Educação Superior 2017 (DM_IES, DM_CURSO, DM_DOCENTE, DM_ALUNO, DM_LOCAL_OFERTA e TB_AUX_AREA_OCDE) em formato CSV delimitados por Pipe ( | ). Os arquivos encontram-se compactados (em formato .zip) pelo software 7-zip e devem ser descompactados no diretório C:\\ do seu disco rígido.  \n",
    " \n",
    "#### LEIA-ME \n",
    "\n",
    "Este presente instrumento traz instruções fundamentais para a correta extração e manipulação dos Microdados, como orientações para abrir os arquivos nos softwares R, SPSS e SAS. É, portanto, uma espécie de “Manual do Usuário” que traz os Dicionários das Variáveis do Censo da Educação Superior 2017. \n",
    " \n",
    "#### FILTROS DA EDUCAÇÃO SUPERIOR \n",
    "\n",
    "É um documento que norteia o usuário na obtenção de dados em sintonia com os valores publicados nas Sinopses Estatísticas produzidas pelo INEP. Nele, são elencados, de forma simples, os principais filtros e funções que devem ser aplicados. \n",
    " \n",
    "#### ANEXO I – Dicionários de dados e Tabelas Auxiliares \n",
    "\n",
    "Contém, em formato .xlsx (Excel), o Dicionário de Dados do Censo da Educação Superior 2017 e também uma tabela auxiliar com o código e o nome dos países: \n",
    "\n",
    "1.DICIONÁRIO DE DADOS \n",
    "\n",
    "- TABELA DE ALUNO \n",
    "- TABELA DE CURSO \n",
    "- TABELA DE IES \n",
    "- TABELA DE LOCAL DE OFERTA \n",
    "- TABELA DE DOCENTE \n",
    "- TABELA AUXILIAR OCDE \n",
    " \n",
    "2.TABELA CONTENDO O NOME DO PAÍS DE ORIGEM OU NATURALIZAÇÃO \n",
    " \n",
    "#### ANEXO II – Questionários do Censo da Educação Superior  \n",
    "\n",
    "Contém, em formato .pdf (Portable Document Format), os seguintes questionários do Censo da Educação Superior 2017 e estão disponíveis para download na pasta anexos: \n",
    "\n",
    "- MÓDULO IES \n",
    "- MÓDULO CURSO \n",
    "- MÓDULO DOCENTE \n",
    "- MÓDULO ALUNO "
   ]
  },
  {
   "cell_type": "markdown",
   "metadata": {},
   "source": [
    "# DESAFIO 2\n",
    "\n",
    "<br>\n",
    "<img src=\"img/dh.png\" width=\"550\" />\n",
    "<br>\n",
    "\n",
    "## Parte Coletiva\n",
    "\n",
    "### Obrigatório:\n",
    "\n",
    "1) Tabelas com número de universidades públicas e privadas por estado e número de alunos por universidade \n",
    "\n",
    "2) Pergunta-se: é verdade que existe menos mulheres nos cursos de exatas? Explique com os dados.\n",
    "\n",
    "3) Quantos cursos novos abrem por ano? \n",
    "\n",
    "4) Se usarmos a taxa de concluientes de um curso como variável de dificuldade dos cursos, eles tem ficado mais faceis ou mais duros ao longo do tempo? Quais as dificuldades para uma afirmação dessas?\n",
    "\n",
    "5) Rode uma regressão multipla que explique o abandono dos cursos, será que professores mais/menos preparados influência nessas taxas?\n",
    "\n",
    "6) Quais os cursos com maior crescimento de matriculas por região? E quais os com maior queda? Como você explicaria isso.\n",
    "\n",
    "7) Construa uma variável \"Signo\" dos estudantes e explique porque ela é correlacionada com a variável \"probabilidade de formação\" (construir)\n",
    "\n",
    "### Facultativo:\n",
    "\n",
    "1) Crie um mapa das universidades no pais.\n",
    "\n",
    "2) Alunos estrangeiros são melhores resilientes (para terminar um curso) que os brasileiros? Quais as dificuldades dessa análise?\n",
    "\n",
    "3) Se você tivesse que abrir um curso (apenas um curso de graduação), qual seria, onde ele seria, qual a modalidade.\n",
    "\n",
    "## Parte Individual.\n",
    "\n",
    "### Obrigatório:\n",
    "\n",
    "1) Pense na Hipótese de 2 universidades A e B onde X é a média de notas delas e elas tem exatamente os mesmos cursos. É possível que A_X > B_X e TODOS os cursos de B sejam melhores (notas maiores) que os de A? Explique (não são necessários códigos, apenas a explicação). Dica: paradoxo de simpson.\n",
    "\n",
    "2) Rode uma regressão multipla que use, entre outras, a carga horária de um curso como variavel independente para explicar a idade dos alunos formados.\n",
    "\n",
    "3) Qual a probabilidade de pegarmos um professor ao acaso no Brasil e ele ter mais do que o dobro da sua idade dado que ele é homem.\n",
    "\n",
    "Obs: Não usar informações que não estejam na pasta Desafios nas partes **Obrigatórias**\n",
    "\n",
    "## Data da entrega: 03 de Setembro (terça-feira)"
   ]
  },
  {
   "cell_type": "markdown",
   "metadata": {},
   "source": [
    "# DESAFIO 2 - Grupo:\n",
    "\n",
    "Nome dos integrantes do grupo"
   ]
  },
  {
   "cell_type": "code",
   "execution_count": 1,
   "metadata": {},
   "outputs": [],
   "source": [
    "import pandas as pd\n",
    "import numpy as np\n",
    "\n",
    "from matplotlib import pyplot as plt\n",
    "pd.set_option('display.max_columns', 999)\n"
   ]
  },
  {
   "cell_type": "markdown",
   "metadata": {},
   "source": [
    "### Bases de teste"
   ]
  },
  {
   "cell_type": "code",
   "execution_count": 145,
   "metadata": {},
   "outputs": [],
   "source": [
    "alunosB = pd.read_csv('3-Dados\\DM_ALUNO.CSV', sep = '|', encoding='latin-1',nrows = 1000)"
   ]
  },
  {
   "cell_type": "code",
   "execution_count": 146,
   "metadata": {},
   "outputs": [],
   "source": [
    "cursosB = pd.read_csv('3-Dados\\DM_CURSO.CSV', sep = '|', encoding='latin-1',nrows = 1000)"
   ]
  },
  {
   "cell_type": "code",
   "execution_count": 147,
   "metadata": {},
   "outputs": [],
   "source": [
    "docentesB = pd.read_csv('3-Dados\\DM_DOCENTE.CSV', sep = '|', encoding='latin-1',nrows = 1000)"
   ]
  },
  {
   "cell_type": "code",
   "execution_count": 148,
   "metadata": {},
   "outputs": [],
   "source": [
    "locaisB = pd.read_csv('3-Dados\\DM_LOCAL_OFERTA.CSV', sep = '|', encoding='latin-1',nrows = 1000)"
   ]
  },
  {
   "cell_type": "code",
   "execution_count": 149,
   "metadata": {},
   "outputs": [],
   "source": [
    "faculdadesB = pd.read_csv('3-Dados\\DM_IES.CSV', sep = '|', encoding='latin-1',nrows = 1000)"
   ]
  },
  {
   "cell_type": "code",
   "execution_count": null,
   "metadata": {},
   "outputs": [],
   "source": []
  },
  {
   "cell_type": "markdown",
   "metadata": {},
   "source": [
    "### Dicionários"
   ]
  },
  {
   "cell_type": "code",
   "execution_count": null,
   "metadata": {},
   "outputs": [],
   "source": [
    "categoriasAdm = {1:'Publica',2:'Publica',3:'Publica',4:'Privada',5:'Privada',6:'Privada',7:'Privada'}\n",
    "UF = {12:'AC',27:'AL',13:'AM',16:'AP',29:'BA',23:'CE',53:'DF',32:'ES',52:'GO',21:'MA',31:'MG',50:'MS', 51:'MT',15:'PA',25:'PB',26:'PE',22:'PI',41:'PR',33:'RJ',24:'RN',11:'RO',14:'RR',43:'RS',42:'SC',28:'SE',35:'SP',17:'TO'}\n",
    "regiao = {1: 'Norte', 2:'Nordeste',3:'Sudeste',4: 'Sul', 5:'Centro-Oeste'}"
   ]
  },
  {
   "cell_type": "markdown",
   "metadata": {},
   "source": [
    "### 1 - Tabelas com número de universidades públicas e privadas por estado e número de alunos por universidade"
   ]
  },
  {
   "cell_type": "code",
   "execution_count": 249,
   "metadata": {},
   "outputs": [],
   "source": [
    "faculdades = pd.read_csv('3-Dados\\DM_IES.CSV', sep = '|', encoding='latin-1', usecols=['CO_IES','NO_IES','CO_REGIAO','CO_UF','TP_CATEGORIA_ADMINISTRATIVA'])"
   ]
  },
  {
   "cell_type": "code",
   "execution_count": 250,
   "metadata": {},
   "outputs": [],
   "source": [
    "alunos = pd.read_csv('3-Dados\\DM_ALUNO.CSV',encoding='latin-1' , sep = '|', usecols = ['CO_IES', 'IN_MATRICULA'])"
   ]
  },
  {
   "cell_type": "code",
   "execution_count": 251,
   "metadata": {},
   "outputs": [],
   "source": [
    "groupFacul = faculdades"
   ]
  },
  {
   "cell_type": "code",
   "execution_count": 252,
   "metadata": {},
   "outputs": [],
   "source": [
    "#Converte codigo para categoria\n",
    "groupFacul['TP_CATEGORIA_ADMINISTRATIVA'] = groupFacul['TP_CATEGORIA_ADMINISTRATIVA'].replace(categoriasAdm)"
   ]
  },
  {
   "cell_type": "code",
   "execution_count": 253,
   "metadata": {},
   "outputs": [],
   "source": [
    "#Converte codigo para categoria\n",
    "groupFacul['CO_UF'] = groupFacul['CO_UF'].replace(UF)"
   ]
  },
  {
   "cell_type": "code",
   "execution_count": 254,
   "metadata": {},
   "outputs": [],
   "source": [
    "groupFacul['CO_REGIAO'] = groupFacul['CO_REGIAO'].replace(regiao)"
   ]
  },
  {
   "cell_type": "markdown",
   "metadata": {},
   "source": [
    "##### Quantas faculdades publicas e privadas temos?\n",
    "Apenas 12% das universidades são publicas"
   ]
  },
  {
   "cell_type": "code",
   "execution_count": 255,
   "metadata": {},
   "outputs": [
    {
     "data": {
      "text/html": [
       "<div>\n",
       "<style scoped>\n",
       "    .dataframe tbody tr th:only-of-type {\n",
       "        vertical-align: middle;\n",
       "    }\n",
       "\n",
       "    .dataframe tbody tr th {\n",
       "        vertical-align: top;\n",
       "    }\n",
       "\n",
       "    .dataframe thead th {\n",
       "        text-align: right;\n",
       "    }\n",
       "</style>\n",
       "<table border=\"1\" class=\"dataframe\">\n",
       "  <thead>\n",
       "    <tr style=\"text-align: right;\">\n",
       "      <th></th>\n",
       "      <th>CO_IES</th>\n",
       "    </tr>\n",
       "    <tr>\n",
       "      <th>TP_CATEGORIA_ADMINISTRATIVA</th>\n",
       "      <th></th>\n",
       "    </tr>\n",
       "  </thead>\n",
       "  <tbody>\n",
       "    <tr>\n",
       "      <th>Privada</th>\n",
       "      <td>2162</td>\n",
       "    </tr>\n",
       "    <tr>\n",
       "      <th>Publica</th>\n",
       "      <td>286</td>\n",
       "    </tr>\n",
       "  </tbody>\n",
       "</table>\n",
       "</div>"
      ],
      "text/plain": [
       "                             CO_IES\n",
       "TP_CATEGORIA_ADMINISTRATIVA        \n",
       "Privada                        2162\n",
       "Publica                         286"
      ]
     },
     "execution_count": 255,
     "metadata": {},
     "output_type": "execute_result"
    }
   ],
   "source": [
    "groupFacul[['TP_CATEGORIA_ADMINISTRATIVA','CO_IES']].groupby(['TP_CATEGORIA_ADMINISTRATIVA']).count()"
   ]
  },
  {
   "cell_type": "markdown",
   "metadata": {},
   "source": [
    "##### Quantas faculdades por UF?"
   ]
  },
  {
   "cell_type": "code",
   "execution_count": 256,
   "metadata": {},
   "outputs": [
    {
     "data": {
      "text/html": [
       "<div>\n",
       "<style scoped>\n",
       "    .dataframe tbody tr th:only-of-type {\n",
       "        vertical-align: middle;\n",
       "    }\n",
       "\n",
       "    .dataframe tbody tr th {\n",
       "        vertical-align: top;\n",
       "    }\n",
       "\n",
       "    .dataframe thead th {\n",
       "        text-align: right;\n",
       "    }\n",
       "</style>\n",
       "<table border=\"1\" class=\"dataframe\">\n",
       "  <thead>\n",
       "    <tr style=\"text-align: right;\">\n",
       "      <th></th>\n",
       "      <th>CO_IES</th>\n",
       "    </tr>\n",
       "    <tr>\n",
       "      <th>CO_UF</th>\n",
       "      <th></th>\n",
       "    </tr>\n",
       "  </thead>\n",
       "  <tbody>\n",
       "    <tr>\n",
       "      <th>SP</th>\n",
       "      <td>611</td>\n",
       "    </tr>\n",
       "    <tr>\n",
       "      <th>MG</th>\n",
       "      <td>296</td>\n",
       "    </tr>\n",
       "    <tr>\n",
       "      <th>PR</th>\n",
       "      <td>189</td>\n",
       "    </tr>\n",
       "    <tr>\n",
       "      <th>RJ</th>\n",
       "      <td>136</td>\n",
       "    </tr>\n",
       "    <tr>\n",
       "      <th>BA</th>\n",
       "      <td>133</td>\n",
       "    </tr>\n",
       "  </tbody>\n",
       "</table>\n",
       "</div>"
      ],
      "text/plain": [
       "       CO_IES\n",
       "CO_UF        \n",
       "SP        611\n",
       "MG        296\n",
       "PR        189\n",
       "RJ        136\n",
       "BA        133"
      ]
     },
     "execution_count": 256,
     "metadata": {},
     "output_type": "execute_result"
    }
   ],
   "source": [
    "groupFacul[['CO_UF','CO_IES']].groupby(['CO_UF']).count().sort_values(by = 'CO_IES', ascending = False).head()"
   ]
  },
  {
   "cell_type": "markdown",
   "metadata": {},
   "source": [
    "##### Quantas faculdades por região?"
   ]
  },
  {
   "cell_type": "code",
   "execution_count": 257,
   "metadata": {},
   "outputs": [
    {
     "data": {
      "text/html": [
       "<div>\n",
       "<style scoped>\n",
       "    .dataframe tbody tr th:only-of-type {\n",
       "        vertical-align: middle;\n",
       "    }\n",
       "\n",
       "    .dataframe tbody tr th {\n",
       "        vertical-align: top;\n",
       "    }\n",
       "\n",
       "    .dataframe thead th {\n",
       "        text-align: right;\n",
       "    }\n",
       "</style>\n",
       "<table border=\"1\" class=\"dataframe\">\n",
       "  <thead>\n",
       "    <tr style=\"text-align: right;\">\n",
       "      <th></th>\n",
       "      <th>CO_IES</th>\n",
       "    </tr>\n",
       "    <tr>\n",
       "      <th>CO_REGIAO</th>\n",
       "      <th></th>\n",
       "    </tr>\n",
       "  </thead>\n",
       "  <tbody>\n",
       "    <tr>\n",
       "      <th>Sudeste</th>\n",
       "      <td>1121</td>\n",
       "    </tr>\n",
       "    <tr>\n",
       "      <th>Nordeste</th>\n",
       "      <td>517</td>\n",
       "    </tr>\n",
       "    <tr>\n",
       "      <th>Sul</th>\n",
       "      <td>405</td>\n",
       "    </tr>\n",
       "    <tr>\n",
       "      <th>Centro-Oeste</th>\n",
       "      <td>240</td>\n",
       "    </tr>\n",
       "    <tr>\n",
       "      <th>Norte</th>\n",
       "      <td>165</td>\n",
       "    </tr>\n",
       "  </tbody>\n",
       "</table>\n",
       "</div>"
      ],
      "text/plain": [
       "              CO_IES\n",
       "CO_REGIAO           \n",
       "Sudeste         1121\n",
       "Nordeste         517\n",
       "Sul              405\n",
       "Centro-Oeste     240\n",
       "Norte            165"
      ]
     },
     "execution_count": 257,
     "metadata": {},
     "output_type": "execute_result"
    }
   ],
   "source": [
    "groupFacul[['CO_REGIAO','CO_IES']].groupby(['CO_REGIAO']).count().sort_values(by = 'CO_IES', ascending = False)"
   ]
  },
  {
   "cell_type": "code",
   "execution_count": 276,
   "metadata": {},
   "outputs": [],
   "source": [
    "#groupFacul[['CO_REGIAO','CO_UF','CO_IES']].groupby(['CO_REGIAO','CO_UF']).count().sort_values(by = ['CO_REGIAO','CO_IES'],ascending = False)"
   ]
  },
  {
   "cell_type": "code",
   "execution_count": 259,
   "metadata": {},
   "outputs": [],
   "source": [
    "#groupFacul[['TP_CATEGORIA_ADMINISTRATIVA','CO_UF','CO_IES']].groupby(['CO_UF','TP_CATEGORIA_ADMINISTRATIVA']).count()"
   ]
  },
  {
   "cell_type": "code",
   "execution_count": 260,
   "metadata": {},
   "outputs": [],
   "source": [
    "groupAlunos = alunos[['CO_IES', 'IN_MATRICULA']].groupby('CO_IES', as_index = False).count()"
   ]
  },
  {
   "cell_type": "code",
   "execution_count": 261,
   "metadata": {},
   "outputs": [],
   "source": [
    "groupAlunos.rename(columns = {'IN_MATRICULA':'QtdAlunos'}, inplace = True)"
   ]
  },
  {
   "cell_type": "code",
   "execution_count": 262,
   "metadata": {},
   "outputs": [],
   "source": [
    "df = pd.merge(groupAlunos, groupFacul, how = 'inner')"
   ]
  },
  {
   "cell_type": "markdown",
   "metadata": {},
   "source": [
    "#### Top 10 Faculdades, com mais alunos"
   ]
  },
  {
   "cell_type": "code",
   "execution_count": 263,
   "metadata": {},
   "outputs": [
    {
     "data": {
      "text/html": [
       "<div>\n",
       "<style scoped>\n",
       "    .dataframe tbody tr th:only-of-type {\n",
       "        vertical-align: middle;\n",
       "    }\n",
       "\n",
       "    .dataframe tbody tr th {\n",
       "        vertical-align: top;\n",
       "    }\n",
       "\n",
       "    .dataframe thead th {\n",
       "        text-align: right;\n",
       "    }\n",
       "</style>\n",
       "<table border=\"1\" class=\"dataframe\">\n",
       "  <thead>\n",
       "    <tr style=\"text-align: right;\">\n",
       "      <th></th>\n",
       "      <th>CO_IES</th>\n",
       "      <th>QtdAlunos</th>\n",
       "      <th>NO_IES</th>\n",
       "      <th>TP_CATEGORIA_ADMINISTRATIVA</th>\n",
       "      <th>CO_REGIAO</th>\n",
       "      <th>CO_UF</th>\n",
       "    </tr>\n",
       "  </thead>\n",
       "  <tbody>\n",
       "    <tr>\n",
       "      <th>156</th>\n",
       "      <td>322</td>\n",
       "      <td>577780</td>\n",
       "      <td>UNIVERSIDADE PAULISTA</td>\n",
       "      <td>Privada</td>\n",
       "      <td>Sudeste</td>\n",
       "      <td>SP</td>\n",
       "    </tr>\n",
       "    <tr>\n",
       "      <th>148</th>\n",
       "      <td>298</td>\n",
       "      <td>553187</td>\n",
       "      <td>UNIVERSIDADE PITÁGORAS UNOPAR</td>\n",
       "      <td>Privada</td>\n",
       "      <td>Sul</td>\n",
       "      <td>PR</td>\n",
       "    </tr>\n",
       "    <tr>\n",
       "      <th>89</th>\n",
       "      <td>163</td>\n",
       "      <td>425218</td>\n",
       "      <td>UNIVERSIDADE ESTÁCIO DE SÁ</td>\n",
       "      <td>Privada</td>\n",
       "      <td>Sudeste</td>\n",
       "      <td>RJ</td>\n",
       "    </tr>\n",
       "    <tr>\n",
       "      <th>352</th>\n",
       "      <td>671</td>\n",
       "      <td>297471</td>\n",
       "      <td>UNIVERSIDADE ANHANGUERA</td>\n",
       "      <td>Privada</td>\n",
       "      <td>Centro-Oeste</td>\n",
       "      <td>MS</td>\n",
       "    </tr>\n",
       "    <tr>\n",
       "      <th>751</th>\n",
       "      <td>1491</td>\n",
       "      <td>255087</td>\n",
       "      <td>CENTRO UNIVERSITÁRIO INTERNACIONAL</td>\n",
       "      <td>Privada</td>\n",
       "      <td>Sul</td>\n",
       "      <td>PR</td>\n",
       "    </tr>\n",
       "    <tr>\n",
       "      <th>153</th>\n",
       "      <td>316</td>\n",
       "      <td>218377</td>\n",
       "      <td>UNIVERSIDADE NOVE DE JULHO</td>\n",
       "      <td>Privada</td>\n",
       "      <td>Sudeste</td>\n",
       "      <td>SP</td>\n",
       "    </tr>\n",
       "    <tr>\n",
       "      <th>742</th>\n",
       "      <td>1472</td>\n",
       "      <td>156224</td>\n",
       "      <td>CENTRO UNIVERSITÁRIO LEONARDO DA VINCI</td>\n",
       "      <td>Privada</td>\n",
       "      <td>Sul</td>\n",
       "      <td>SC</td>\n",
       "    </tr>\n",
       "    <tr>\n",
       "      <th>579</th>\n",
       "      <td>1196</td>\n",
       "      <td>94342</td>\n",
       "      <td>CENTRO UNIVERSITÁRIO DE MARINGÁ - UNICESUMAR</td>\n",
       "      <td>Privada</td>\n",
       "      <td>Sul</td>\n",
       "      <td>PR</td>\n",
       "    </tr>\n",
       "    <tr>\n",
       "      <th>181</th>\n",
       "      <td>374</td>\n",
       "      <td>92333</td>\n",
       "      <td>CENTRO UNIVERSITÁRIO DAS FACULDADES METROPOLIT...</td>\n",
       "      <td>Privada</td>\n",
       "      <td>Sudeste</td>\n",
       "      <td>SP</td>\n",
       "    </tr>\n",
       "    <tr>\n",
       "      <th>230</th>\n",
       "      <td>466</td>\n",
       "      <td>92040</td>\n",
       "      <td>UNIVERSIDADE ANHEMBI MORUMBI</td>\n",
       "      <td>Privada</td>\n",
       "      <td>Sudeste</td>\n",
       "      <td>SP</td>\n",
       "    </tr>\n",
       "  </tbody>\n",
       "</table>\n",
       "</div>"
      ],
      "text/plain": [
       "     CO_IES  QtdAlunos                                             NO_IES  \\\n",
       "156     322     577780                              UNIVERSIDADE PAULISTA   \n",
       "148     298     553187                      UNIVERSIDADE PITÁGORAS UNOPAR   \n",
       "89      163     425218                         UNIVERSIDADE ESTÁCIO DE SÁ   \n",
       "352     671     297471                            UNIVERSIDADE ANHANGUERA   \n",
       "751    1491     255087                 CENTRO UNIVERSITÁRIO INTERNACIONAL   \n",
       "153     316     218377                         UNIVERSIDADE NOVE DE JULHO   \n",
       "742    1472     156224             CENTRO UNIVERSITÁRIO LEONARDO DA VINCI   \n",
       "579    1196      94342       CENTRO UNIVERSITÁRIO DE MARINGÁ - UNICESUMAR   \n",
       "181     374      92333  CENTRO UNIVERSITÁRIO DAS FACULDADES METROPOLIT...   \n",
       "230     466      92040                       UNIVERSIDADE ANHEMBI MORUMBI   \n",
       "\n",
       "    TP_CATEGORIA_ADMINISTRATIVA     CO_REGIAO CO_UF  \n",
       "156                     Privada       Sudeste    SP  \n",
       "148                     Privada           Sul    PR  \n",
       "89                      Privada       Sudeste    RJ  \n",
       "352                     Privada  Centro-Oeste    MS  \n",
       "751                     Privada           Sul    PR  \n",
       "153                     Privada       Sudeste    SP  \n",
       "742                     Privada           Sul    SC  \n",
       "579                     Privada           Sul    PR  \n",
       "181                     Privada       Sudeste    SP  \n",
       "230                     Privada       Sudeste    SP  "
      ]
     },
     "execution_count": 263,
     "metadata": {},
     "output_type": "execute_result"
    }
   ],
   "source": [
    "df.sort_values('QtdAlunos', ascending = False).head(10)"
   ]
  },
  {
   "cell_type": "markdown",
   "metadata": {},
   "source": [
    "#### Regioes e Qtd de alunos"
   ]
  },
  {
   "cell_type": "code",
   "execution_count": 264,
   "metadata": {},
   "outputs": [
    {
     "data": {
      "text/html": [
       "<div>\n",
       "<style scoped>\n",
       "    .dataframe tbody tr th:only-of-type {\n",
       "        vertical-align: middle;\n",
       "    }\n",
       "\n",
       "    .dataframe tbody tr th {\n",
       "        vertical-align: top;\n",
       "    }\n",
       "\n",
       "    .dataframe thead th {\n",
       "        text-align: right;\n",
       "    }\n",
       "</style>\n",
       "<table border=\"1\" class=\"dataframe\">\n",
       "  <thead>\n",
       "    <tr style=\"text-align: right;\">\n",
       "      <th></th>\n",
       "      <th>QtdAlunos</th>\n",
       "    </tr>\n",
       "    <tr>\n",
       "      <th>CO_REGIAO</th>\n",
       "      <th></th>\n",
       "    </tr>\n",
       "  </thead>\n",
       "  <tbody>\n",
       "    <tr>\n",
       "      <th>Sudeste</th>\n",
       "      <td>5226074</td>\n",
       "    </tr>\n",
       "    <tr>\n",
       "      <th>Sul</th>\n",
       "      <td>2567600</td>\n",
       "    </tr>\n",
       "    <tr>\n",
       "      <th>Nordeste</th>\n",
       "      <td>2051852</td>\n",
       "    </tr>\n",
       "    <tr>\n",
       "      <th>Centro-Oeste</th>\n",
       "      <td>1106384</td>\n",
       "    </tr>\n",
       "    <tr>\n",
       "      <th>Norte</th>\n",
       "      <td>637284</td>\n",
       "    </tr>\n",
       "  </tbody>\n",
       "</table>\n",
       "</div>"
      ],
      "text/plain": [
       "              QtdAlunos\n",
       "CO_REGIAO              \n",
       "Sudeste         5226074\n",
       "Sul             2567600\n",
       "Nordeste        2051852\n",
       "Centro-Oeste    1106384\n",
       "Norte            637284"
      ]
     },
     "execution_count": 264,
     "metadata": {},
     "output_type": "execute_result"
    }
   ],
   "source": [
    "df[['CO_REGIAO','CO_UF','QtdAlunos']].groupby('CO_REGIAO').sum().sort_values('QtdAlunos', ascending = False)"
   ]
  },
  {
   "cell_type": "code",
   "execution_count": 265,
   "metadata": {},
   "outputs": [],
   "source": [
    "#df['Privada'] = 0\n",
    "#df['Publica'] = 0"
   ]
  },
  {
   "cell_type": "code",
   "execution_count": 266,
   "metadata": {},
   "outputs": [],
   "source": [
    "#df['Privada'][df['TP_CATEGORIA_ADMINISTRATIVA'] == 'Privada'] = df['QtdAlunos'][df['TP_CATEGORIA_ADMINISTRATIVA'] == 'Privada']"
   ]
  },
  {
   "cell_type": "code",
   "execution_count": 267,
   "metadata": {},
   "outputs": [],
   "source": [
    "#df['Publica'][df['TP_CATEGORIA_ADMINISTRATIVA'] == 'Publica'] = df['QtdAlunos'][df['TP_CATEGORIA_ADMINISTRATIVA'] == 'Publica']"
   ]
  },
  {
   "cell_type": "code",
   "execution_count": 268,
   "metadata": {},
   "outputs": [],
   "source": [
    "#df = df.rename(columns= {'CO_UF':'UF', 'QtdAlunos':'Total'})"
   ]
  },
  {
   "cell_type": "code",
   "execution_count": 269,
   "metadata": {},
   "outputs": [],
   "source": [
    "del df['TP_CATEGORIA_ADMINISTRATIVA']\n",
    "del df['CO_IES']\n",
    "del df['NO_IES']"
   ]
  },
  {
   "cell_type": "code",
   "execution_count": 270,
   "metadata": {},
   "outputs": [],
   "source": [
    "df = df.groupby(['CO_UF'], as_index = False).sum().sort_values('QtdAlunos', ascending = False)"
   ]
  },
  {
   "cell_type": "code",
   "execution_count": 271,
   "metadata": {},
   "outputs": [],
   "source": [
    "publica = groupFacul[['CO_UF','CO_IES']][groupFacul['TP_CATEGORIA_ADMINISTRATIVA'] == 'Publica'].groupby('CO_UF', as_index = False).count()\n",
    "privada = groupFacul[['CO_UF','CO_IES']][groupFacul['TP_CATEGORIA_ADMINISTRATIVA'] == 'Privada'].groupby('CO_UF', as_index = False).count()"
   ]
  },
  {
   "cell_type": "code",
   "execution_count": 272,
   "metadata": {},
   "outputs": [],
   "source": [
    "df = pd.merge(df, publica)\n",
    "df.rename(columns={'CO_IES':'QtdUniPub'}, inplace = True)\n",
    "df = pd.merge(df, privada)\n",
    "df.rename(columns={'CO_IES':'QtdUniPri'}, inplace = True)"
   ]
  },
  {
   "cell_type": "code",
   "execution_count": 273,
   "metadata": {},
   "outputs": [
    {
     "data": {
      "text/html": [
       "<div>\n",
       "<style scoped>\n",
       "    .dataframe tbody tr th:only-of-type {\n",
       "        vertical-align: middle;\n",
       "    }\n",
       "\n",
       "    .dataframe tbody tr th {\n",
       "        vertical-align: top;\n",
       "    }\n",
       "\n",
       "    .dataframe thead th {\n",
       "        text-align: right;\n",
       "    }\n",
       "</style>\n",
       "<table border=\"1\" class=\"dataframe\">\n",
       "  <thead>\n",
       "    <tr style=\"text-align: right;\">\n",
       "      <th></th>\n",
       "      <th>CO_UF</th>\n",
       "      <th>QtdAlunos</th>\n",
       "      <th>QtdUniPub</th>\n",
       "      <th>QtdUniPri</th>\n",
       "    </tr>\n",
       "  </thead>\n",
       "  <tbody>\n",
       "    <tr>\n",
       "      <th>0</th>\n",
       "      <td>SP</td>\n",
       "      <td>3028471</td>\n",
       "      <td>98</td>\n",
       "      <td>513</td>\n",
       "    </tr>\n",
       "    <tr>\n",
       "      <th>1</th>\n",
       "      <td>PR</td>\n",
       "      <td>1458037</td>\n",
       "      <td>13</td>\n",
       "      <td>176</td>\n",
       "    </tr>\n",
       "    <tr>\n",
       "      <th>2</th>\n",
       "      <td>RJ</td>\n",
       "      <td>1148454</td>\n",
       "      <td>27</td>\n",
       "      <td>109</td>\n",
       "    </tr>\n",
       "    <tr>\n",
       "      <th>3</th>\n",
       "      <td>MG</td>\n",
       "      <td>891330</td>\n",
       "      <td>23</td>\n",
       "      <td>273</td>\n",
       "    </tr>\n",
       "    <tr>\n",
       "      <th>4</th>\n",
       "      <td>RS</td>\n",
       "      <td>615593</td>\n",
       "      <td>10</td>\n",
       "      <td>113</td>\n",
       "    </tr>\n",
       "    <tr>\n",
       "      <th>5</th>\n",
       "      <td>SC</td>\n",
       "      <td>493970</td>\n",
       "      <td>8</td>\n",
       "      <td>85</td>\n",
       "    </tr>\n",
       "    <tr>\n",
       "      <th>6</th>\n",
       "      <td>BA</td>\n",
       "      <td>437205</td>\n",
       "      <td>10</td>\n",
       "      <td>123</td>\n",
       "    </tr>\n",
       "    <tr>\n",
       "      <th>7</th>\n",
       "      <td>MS</td>\n",
       "      <td>424482</td>\n",
       "      <td>4</td>\n",
       "      <td>24</td>\n",
       "    </tr>\n",
       "    <tr>\n",
       "      <th>8</th>\n",
       "      <td>CE</td>\n",
       "      <td>359260</td>\n",
       "      <td>7</td>\n",
       "      <td>65</td>\n",
       "    </tr>\n",
       "    <tr>\n",
       "      <th>9</th>\n",
       "      <td>PE</td>\n",
       "      <td>323442</td>\n",
       "      <td>21</td>\n",
       "      <td>85</td>\n",
       "    </tr>\n",
       "    <tr>\n",
       "      <th>10</th>\n",
       "      <td>GO</td>\n",
       "      <td>250191</td>\n",
       "      <td>8</td>\n",
       "      <td>81</td>\n",
       "    </tr>\n",
       "    <tr>\n",
       "      <th>11</th>\n",
       "      <td>DF</td>\n",
       "      <td>245601</td>\n",
       "      <td>4</td>\n",
       "      <td>60</td>\n",
       "    </tr>\n",
       "    <tr>\n",
       "      <th>12</th>\n",
       "      <td>PA</td>\n",
       "      <td>206747</td>\n",
       "      <td>6</td>\n",
       "      <td>48</td>\n",
       "    </tr>\n",
       "    <tr>\n",
       "      <th>13</th>\n",
       "      <td>MA</td>\n",
       "      <td>201596</td>\n",
       "      <td>3</td>\n",
       "      <td>42</td>\n",
       "    </tr>\n",
       "    <tr>\n",
       "      <th>14</th>\n",
       "      <td>MT</td>\n",
       "      <td>186110</td>\n",
       "      <td>3</td>\n",
       "      <td>56</td>\n",
       "    </tr>\n",
       "    <tr>\n",
       "      <th>15</th>\n",
       "      <td>PB</td>\n",
       "      <td>182617</td>\n",
       "      <td>4</td>\n",
       "      <td>38</td>\n",
       "    </tr>\n",
       "    <tr>\n",
       "      <th>16</th>\n",
       "      <td>AM</td>\n",
       "      <td>177835</td>\n",
       "      <td>3</td>\n",
       "      <td>17</td>\n",
       "    </tr>\n",
       "    <tr>\n",
       "      <th>17</th>\n",
       "      <td>ES</td>\n",
       "      <td>157819</td>\n",
       "      <td>5</td>\n",
       "      <td>73</td>\n",
       "    </tr>\n",
       "    <tr>\n",
       "      <th>18</th>\n",
       "      <td>PI</td>\n",
       "      <td>150165</td>\n",
       "      <td>3</td>\n",
       "      <td>41</td>\n",
       "    </tr>\n",
       "    <tr>\n",
       "      <th>19</th>\n",
       "      <td>RN</td>\n",
       "      <td>149861</td>\n",
       "      <td>5</td>\n",
       "      <td>23</td>\n",
       "    </tr>\n",
       "    <tr>\n",
       "      <th>20</th>\n",
       "      <td>SE</td>\n",
       "      <td>128898</td>\n",
       "      <td>2</td>\n",
       "      <td>16</td>\n",
       "    </tr>\n",
       "    <tr>\n",
       "      <th>21</th>\n",
       "      <td>AL</td>\n",
       "      <td>118808</td>\n",
       "      <td>4</td>\n",
       "      <td>25</td>\n",
       "    </tr>\n",
       "    <tr>\n",
       "      <th>22</th>\n",
       "      <td>TO</td>\n",
       "      <td>76049</td>\n",
       "      <td>5</td>\n",
       "      <td>19</td>\n",
       "    </tr>\n",
       "    <tr>\n",
       "      <th>23</th>\n",
       "      <td>RO</td>\n",
       "      <td>64445</td>\n",
       "      <td>2</td>\n",
       "      <td>32</td>\n",
       "    </tr>\n",
       "    <tr>\n",
       "      <th>24</th>\n",
       "      <td>AP</td>\n",
       "      <td>47538</td>\n",
       "      <td>3</td>\n",
       "      <td>12</td>\n",
       "    </tr>\n",
       "    <tr>\n",
       "      <th>25</th>\n",
       "      <td>AC</td>\n",
       "      <td>34607</td>\n",
       "      <td>2</td>\n",
       "      <td>9</td>\n",
       "    </tr>\n",
       "    <tr>\n",
       "      <th>26</th>\n",
       "      <td>RR</td>\n",
       "      <td>30063</td>\n",
       "      <td>3</td>\n",
       "      <td>4</td>\n",
       "    </tr>\n",
       "  </tbody>\n",
       "</table>\n",
       "</div>"
      ],
      "text/plain": [
       "   CO_UF  QtdAlunos  QtdUniPub  QtdUniPri\n",
       "0     SP    3028471         98        513\n",
       "1     PR    1458037         13        176\n",
       "2     RJ    1148454         27        109\n",
       "3     MG     891330         23        273\n",
       "4     RS     615593         10        113\n",
       "5     SC     493970          8         85\n",
       "6     BA     437205         10        123\n",
       "7     MS     424482          4         24\n",
       "8     CE     359260          7         65\n",
       "9     PE     323442         21         85\n",
       "10    GO     250191          8         81\n",
       "11    DF     245601          4         60\n",
       "12    PA     206747          6         48\n",
       "13    MA     201596          3         42\n",
       "14    MT     186110          3         56\n",
       "15    PB     182617          4         38\n",
       "16    AM     177835          3         17\n",
       "17    ES     157819          5         73\n",
       "18    PI     150165          3         41\n",
       "19    RN     149861          5         23\n",
       "20    SE     128898          2         16\n",
       "21    AL     118808          4         25\n",
       "22    TO      76049          5         19\n",
       "23    RO      64445          2         32\n",
       "24    AP      47538          3         12\n",
       "25    AC      34607          2          9\n",
       "26    RR      30063          3          4"
      ]
     },
     "execution_count": 273,
     "metadata": {},
     "output_type": "execute_result"
    }
   ],
   "source": [
    "df"
   ]
  },
  {
   "cell_type": "code",
   "execution_count": 275,
   "metadata": {},
   "outputs": [
    {
     "data": {
      "text/html": [
       "<div>\n",
       "<style scoped>\n",
       "    .dataframe tbody tr th:only-of-type {\n",
       "        vertical-align: middle;\n",
       "    }\n",
       "\n",
       "    .dataframe tbody tr th {\n",
       "        vertical-align: top;\n",
       "    }\n",
       "\n",
       "    .dataframe thead th {\n",
       "        text-align: right;\n",
       "    }\n",
       "</style>\n",
       "<table border=\"1\" class=\"dataframe\">\n",
       "  <thead>\n",
       "    <tr style=\"text-align: right;\">\n",
       "      <th></th>\n",
       "      <th>QtdAlunos</th>\n",
       "      <th>QtdUniPub</th>\n",
       "      <th>QtdUniPri</th>\n",
       "    </tr>\n",
       "  </thead>\n",
       "  <tbody>\n",
       "    <tr>\n",
       "      <th>QtdAlunos</th>\n",
       "      <td>1.000000</td>\n",
       "      <td>0.926807</td>\n",
       "      <td>0.934942</td>\n",
       "    </tr>\n",
       "    <tr>\n",
       "      <th>QtdUniPub</th>\n",
       "      <td>0.926807</td>\n",
       "      <td>1.000000</td>\n",
       "      <td>0.924846</td>\n",
       "    </tr>\n",
       "    <tr>\n",
       "      <th>QtdUniPri</th>\n",
       "      <td>0.934942</td>\n",
       "      <td>0.924846</td>\n",
       "      <td>1.000000</td>\n",
       "    </tr>\n",
       "  </tbody>\n",
       "</table>\n",
       "</div>"
      ],
      "text/plain": [
       "           QtdAlunos  QtdUniPub  QtdUniPri\n",
       "QtdAlunos   1.000000   0.926807   0.934942\n",
       "QtdUniPub   0.926807   1.000000   0.924846\n",
       "QtdUniPri   0.934942   0.924846   1.000000"
      ]
     },
     "execution_count": 275,
     "metadata": {},
     "output_type": "execute_result"
    }
   ],
   "source": [
    "#Estados que tem mais alunos na publica do que na privada?\n",
    "#df[df['Publica'] >= df['Privada']]"
   ]
  },
  {
   "cell_type": "markdown",
   "metadata": {},
   "source": [
    "### 2 - Pergunta-se: é verdade que existe menos mulheres nos cursos de exatas? Explique com os dados."
   ]
  },
  {
   "cell_type": "code",
   "execution_count": 391,
   "metadata": {},
   "outputs": [],
   "source": [
    "sexo = {1:'Feminino',2:'Masculino'}"
   ]
  },
  {
   "cell_type": "code",
   "execution_count": 392,
   "metadata": {},
   "outputs": [],
   "source": [
    "def mulher(x):\n",
    "    if x == 1:\n",
    "        return 1\n",
    "    else:\n",
    "        return 0    "
   ]
  },
  {
   "cell_type": "code",
   "execution_count": 393,
   "metadata": {},
   "outputs": [],
   "source": [
    "alunos = pd.read_csv('3-Dados\\DM_ALUNO.CSV',encoding='latin-1' , sep = '|',  usecols=['TP_SEXO','CO_CURSO'])"
   ]
  },
  {
   "cell_type": "markdown",
   "metadata": {},
   "source": [
    "#### Quantidade de homens vs Mulheres"
   ]
  },
  {
   "cell_type": "code",
   "execution_count": 394,
   "metadata": {},
   "outputs": [
    {
     "data": {
      "text/plain": [
       "Feminino     6449750\n",
       "Masculino    5139444\n",
       "Name: TP_SEXO, dtype: int64"
      ]
     },
     "execution_count": 394,
     "metadata": {},
     "output_type": "execute_result"
    }
   ],
   "source": [
    "alunos['TP_SEXO'].value_counts().rename(index = sexo)"
   ]
  },
  {
   "cell_type": "code",
   "execution_count": 395,
   "metadata": {},
   "outputs": [
    {
     "data": {
      "text/plain": [
       "Feminino     0.56\n",
       "Masculino    0.44\n",
       "Name: TP_SEXO, dtype: float64"
      ]
     },
     "execution_count": 395,
     "metadata": {},
     "output_type": "execute_result"
    }
   ],
   "source": [
    "round(alunos['TP_SEXO'].value_counts(normalize = True).rename(index = sexo),2)"
   ]
  },
  {
   "cell_type": "code",
   "execution_count": 396,
   "metadata": {},
   "outputs": [],
   "source": [
    "alunos['Masculino'] = np.nan\n",
    "alunos['Feminino'] = np.nan"
   ]
  },
  {
   "cell_type": "code",
   "execution_count": 397,
   "metadata": {},
   "outputs": [],
   "source": [
    "alunos['Masculino'] = alunos['TP_SEXO'] - 1"
   ]
  },
  {
   "cell_type": "code",
   "execution_count": 398,
   "metadata": {},
   "outputs": [],
   "source": [
    "alunos['Feminino'] = alunos['TP_SEXO'].apply(mulher)"
   ]
  },
  {
   "cell_type": "code",
   "execution_count": 399,
   "metadata": {},
   "outputs": [],
   "source": [
    "cursoGrupo = alunos[['CO_CURSO','Masculino', 'Feminino']].groupby('CO_CURSO', as_index = False).sum()"
   ]
  },
  {
   "cell_type": "code",
   "execution_count": 400,
   "metadata": {},
   "outputs": [],
   "source": [
    "cursoGrupo['Total'] = cursoGrupo['Masculino'] + cursoGrupo['Feminino']"
   ]
  },
  {
   "cell_type": "code",
   "execution_count": 401,
   "metadata": {},
   "outputs": [],
   "source": [
    "cursos = pd.read_csv('3-Dados\\DM_CURSO.CSV', sep = '|', encoding='latin-1', usecols = ['CO_CURSO','NO_CURSO', 'CO_OCDE_AREA_GERAL'])"
   ]
  },
  {
   "cell_type": "code",
   "execution_count": 402,
   "metadata": {},
   "outputs": [],
   "source": [
    "cursoGrupo = pd.merge(cursoGrupo,cursos)"
   ]
  },
  {
   "cell_type": "code",
   "execution_count": 403,
   "metadata": {},
   "outputs": [],
   "source": [
    "del cursoGrupo['CO_CURSO']"
   ]
  },
  {
   "cell_type": "code",
   "execution_count": 404,
   "metadata": {},
   "outputs": [],
   "source": [
    "cursoGrupo = cursoGrupo.groupby(['CO_OCDE_AREA_GERAL','NO_CURSO'], as_index=False).sum()"
   ]
  },
  {
   "cell_type": "code",
   "execution_count": 405,
   "metadata": {},
   "outputs": [
    {
     "data": {
      "text/plain": [
       "Masculino    5111238\n",
       "Feminino     6422739\n",
       "dtype: int64"
      ]
     },
     "execution_count": 405,
     "metadata": {},
     "output_type": "execute_result"
    }
   ],
   "source": [
    "cursoGrupo[['Masculino','Feminino']].sum()"
   ]
  },
  {
   "cell_type": "code",
   "execution_count": 406,
   "metadata": {},
   "outputs": [],
   "source": [
    "cursoGrupo = cursoGrupo.sort_values('Total', ascending = False)"
   ]
  },
  {
   "cell_type": "markdown",
   "metadata": {},
   "source": [
    "#### Nos cursos de engenharia, mulher tem apenas 27% de representatividade,  e 60% nos de não engenharia"
   ]
  },
  {
   "cell_type": "code",
   "execution_count": 424,
   "metadata": {},
   "outputs": [
    {
     "data": {
      "text/plain": [
       "Masculino    1025649\n",
       "Feminino      382050\n",
       "Total        1407699\n",
       "dtype: int64"
      ]
     },
     "execution_count": 424,
     "metadata": {},
     "output_type": "execute_result"
    }
   ],
   "source": [
    "cursoGrupo[['Masculino','Feminino','Total']][cursoGrupo['NO_CURSO'].str.contains('ENGENHARIA', case = False)].sum()"
   ]
  },
  {
   "cell_type": "code",
   "execution_count": 426,
   "metadata": {},
   "outputs": [
    {
     "data": {
      "text/plain": [
       "Masculino     4085589\n",
       "Feminino      6040689\n",
       "Total        10126278\n",
       "dtype: int64"
      ]
     },
     "execution_count": 426,
     "metadata": {},
     "output_type": "execute_result"
    }
   ],
   "source": [
    "cursoGrupo[['Masculino','Feminino','Total']][~cursoGrupo['NO_CURSO'].str.contains('ENGENHARIA', case = False)].sum()"
   ]
  },
  {
   "cell_type": "code",
   "execution_count": 340,
   "metadata": {},
   "outputs": [],
   "source": [
    "cursoGrupo['pMasculino'] =cursoGrupo['Masculino'] / cursoGrupo['Total']\n",
    "cursoGrupo['pFeminino'] = cursoGrupo['Feminino'] / cursoGrupo['Total']"
   ]
  },
  {
   "cell_type": "code",
   "execution_count": 341,
   "metadata": {},
   "outputs": [],
   "source": [
    "df = cursoGrupo.sort_values('Total', ascending = False).head(50)"
   ]
  },
  {
   "cell_type": "code",
   "execution_count": 685,
   "metadata": {},
   "outputs": [],
   "source": [
    "#Quais são os cursos com mais mulheres?"
   ]
  },
  {
   "cell_type": "markdown",
   "metadata": {},
   "source": [
    "#### Cursos com mais p mulheres?"
   ]
  },
  {
   "cell_type": "code",
   "execution_count": 342,
   "metadata": {},
   "outputs": [
    {
     "data": {
      "text/html": [
       "<div>\n",
       "<style scoped>\n",
       "    .dataframe tbody tr th:only-of-type {\n",
       "        vertical-align: middle;\n",
       "    }\n",
       "\n",
       "    .dataframe tbody tr th {\n",
       "        vertical-align: top;\n",
       "    }\n",
       "\n",
       "    .dataframe thead th {\n",
       "        text-align: right;\n",
       "    }\n",
       "</style>\n",
       "<table border=\"1\" class=\"dataframe\">\n",
       "  <thead>\n",
       "    <tr style=\"text-align: right;\">\n",
       "      <th></th>\n",
       "      <th>CO_OCDE_AREA_GERAL</th>\n",
       "      <th>NO_CURSO</th>\n",
       "      <th>Masculino</th>\n",
       "      <th>Feminino</th>\n",
       "      <th>Total</th>\n",
       "      <th>pMasculino</th>\n",
       "      <th>pFeminino</th>\n",
       "    </tr>\n",
       "  </thead>\n",
       "  <tbody>\n",
       "    <tr>\n",
       "      <th>1191</th>\n",
       "      <td>8.0</td>\n",
       "      <td>ESTÉTICA E COSMÉTICA</td>\n",
       "      <td>938</td>\n",
       "      <td>41716</td>\n",
       "      <td>42654</td>\n",
       "      <td>0.021991</td>\n",
       "      <td>0.978009</td>\n",
       "    </tr>\n",
       "    <tr>\n",
       "      <th>236</th>\n",
       "      <td>1.0</td>\n",
       "      <td>PEDAGOGIA</td>\n",
       "      <td>73621</td>\n",
       "      <td>866806</td>\n",
       "      <td>940427</td>\n",
       "      <td>0.078285</td>\n",
       "      <td>0.921715</td>\n",
       "    </tr>\n",
       "    <tr>\n",
       "      <th>1171</th>\n",
       "      <td>7.0</td>\n",
       "      <td>SERVIÇO SOCIAL</td>\n",
       "      <td>23398</td>\n",
       "      <td>198712</td>\n",
       "      <td>222110</td>\n",
       "      <td>0.105344</td>\n",
       "      <td>0.894656</td>\n",
       "    </tr>\n",
       "    <tr>\n",
       "      <th>1160</th>\n",
       "      <td>7.0</td>\n",
       "      <td>NUTRIÇÃO</td>\n",
       "      <td>27661</td>\n",
       "      <td>149942</td>\n",
       "      <td>177603</td>\n",
       "      <td>0.155746</td>\n",
       "      <td>0.844254</td>\n",
       "    </tr>\n",
       "    <tr>\n",
       "      <th>1142</th>\n",
       "      <td>7.0</td>\n",
       "      <td>ENFERMAGEM</td>\n",
       "      <td>65796</td>\n",
       "      <td>326843</td>\n",
       "      <td>392639</td>\n",
       "      <td>0.167574</td>\n",
       "      <td>0.832426</td>\n",
       "    </tr>\n",
       "  </tbody>\n",
       "</table>\n",
       "</div>"
      ],
      "text/plain": [
       "      CO_OCDE_AREA_GERAL              NO_CURSO  Masculino  Feminino   Total  \\\n",
       "1191                 8.0  ESTÉTICA E COSMÉTICA        938     41716   42654   \n",
       "236                  1.0             PEDAGOGIA      73621    866806  940427   \n",
       "1171                 7.0        SERVIÇO SOCIAL      23398    198712  222110   \n",
       "1160                 7.0              NUTRIÇÃO      27661    149942  177603   \n",
       "1142                 7.0            ENFERMAGEM      65796    326843  392639   \n",
       "\n",
       "      pMasculino  pFeminino  \n",
       "1191    0.021991   0.978009  \n",
       "236     0.078285   0.921715  \n",
       "1171    0.105344   0.894656  \n",
       "1160    0.155746   0.844254  \n",
       "1142    0.167574   0.832426  "
      ]
     },
     "execution_count": 342,
     "metadata": {},
     "output_type": "execute_result"
    }
   ],
   "source": [
    "df.sort_values('pFeminino', ascending = False).head()"
   ]
  },
  {
   "cell_type": "markdown",
   "metadata": {},
   "source": [
    "#### Quais os cursos com mais homens?"
   ]
  },
  {
   "cell_type": "code",
   "execution_count": 343,
   "metadata": {},
   "outputs": [
    {
     "data": {
      "text/html": [
       "<div>\n",
       "<style scoped>\n",
       "    .dataframe tbody tr th:only-of-type {\n",
       "        vertical-align: middle;\n",
       "    }\n",
       "\n",
       "    .dataframe tbody tr th {\n",
       "        vertical-align: top;\n",
       "    }\n",
       "\n",
       "    .dataframe thead th {\n",
       "        text-align: right;\n",
       "    }\n",
       "</style>\n",
       "<table border=\"1\" class=\"dataframe\">\n",
       "  <thead>\n",
       "    <tr style=\"text-align: right;\">\n",
       "      <th></th>\n",
       "      <th>CO_OCDE_AREA_GERAL</th>\n",
       "      <th>NO_CURSO</th>\n",
       "      <th>Masculino</th>\n",
       "      <th>Feminino</th>\n",
       "      <th>Total</th>\n",
       "      <th>pMasculino</th>\n",
       "      <th>pFeminino</th>\n",
       "    </tr>\n",
       "  </thead>\n",
       "  <tbody>\n",
       "    <tr>\n",
       "      <th>1014</th>\n",
       "      <td>5.0</td>\n",
       "      <td>ENGENHARIA MECÂNICA</td>\n",
       "      <td>163099</td>\n",
       "      <td>17895</td>\n",
       "      <td>180994</td>\n",
       "      <td>0.901129</td>\n",
       "      <td>0.098871</td>\n",
       "    </tr>\n",
       "    <tr>\n",
       "      <th>736</th>\n",
       "      <td>4.0</td>\n",
       "      <td>CIÊNCIA DA COMPUTAÇÃO</td>\n",
       "      <td>77143</td>\n",
       "      <td>9799</td>\n",
       "      <td>86942</td>\n",
       "      <td>0.887293</td>\n",
       "      <td>0.112707</td>\n",
       "    </tr>\n",
       "    <tr>\n",
       "      <th>986</th>\n",
       "      <td>5.0</td>\n",
       "      <td>ENGENHARIA ELÉTRICA</td>\n",
       "      <td>125996</td>\n",
       "      <td>17118</td>\n",
       "      <td>143114</td>\n",
       "      <td>0.880389</td>\n",
       "      <td>0.119611</td>\n",
       "    </tr>\n",
       "    <tr>\n",
       "      <th>937</th>\n",
       "      <td>5.0</td>\n",
       "      <td>ENGENHARIA DE COMPUTAÇÃO</td>\n",
       "      <td>36280</td>\n",
       "      <td>5148</td>\n",
       "      <td>41428</td>\n",
       "      <td>0.875736</td>\n",
       "      <td>0.124264</td>\n",
       "    </tr>\n",
       "    <tr>\n",
       "      <th>727</th>\n",
       "      <td>4.0</td>\n",
       "      <td>ANÁLISE E DESENVOLVIMENTO DE SISTEMAS</td>\n",
       "      <td>126026</td>\n",
       "      <td>19979</td>\n",
       "      <td>146005</td>\n",
       "      <td>0.863162</td>\n",
       "      <td>0.136838</td>\n",
       "    </tr>\n",
       "  </tbody>\n",
       "</table>\n",
       "</div>"
      ],
      "text/plain": [
       "      CO_OCDE_AREA_GERAL                               NO_CURSO  Masculino  \\\n",
       "1014                 5.0                    ENGENHARIA MECÂNICA     163099   \n",
       "736                  4.0                  CIÊNCIA DA COMPUTAÇÃO      77143   \n",
       "986                  5.0                    ENGENHARIA ELÉTRICA     125996   \n",
       "937                  5.0               ENGENHARIA DE COMPUTAÇÃO      36280   \n",
       "727                  4.0  ANÁLISE E DESENVOLVIMENTO DE SISTEMAS     126026   \n",
       "\n",
       "      Feminino   Total  pMasculino  pFeminino  \n",
       "1014     17895  180994    0.901129   0.098871  \n",
       "736       9799   86942    0.887293   0.112707  \n",
       "986      17118  143114    0.880389   0.119611  \n",
       "937       5148   41428    0.875736   0.124264  \n",
       "727      19979  146005    0.863162   0.136838  "
      ]
     },
     "execution_count": 343,
     "metadata": {},
     "output_type": "execute_result"
    }
   ],
   "source": [
    "df.sort_values('pFeminino', ascending = True).head()"
   ]
  },
  {
   "cell_type": "code",
   "execution_count": 364,
   "metadata": {},
   "outputs": [],
   "source": [
    "df = df[['CO_OCDE_AREA_GERAL','Masculino','Feminino']].groupby('CO_OCDE_AREA_GERAL', as_index=False).sum()"
   ]
  },
  {
   "cell_type": "code",
   "execution_count": 365,
   "metadata": {},
   "outputs": [],
   "source": [
    "df['Total'] = df['Masculino'] + df['Feminino']"
   ]
  },
  {
   "cell_type": "code",
   "execution_count": 366,
   "metadata": {},
   "outputs": [],
   "source": [
    "df['MediaMasculino'] = round(df['Masculino'] / df['Total'],2)\n",
    "df['MediaFeminino'] = round(df['Feminino'] / df['Total'], 2)"
   ]
  },
  {
   "cell_type": "code",
   "execution_count": 388,
   "metadata": {},
   "outputs": [],
   "source": [
    "#Humanas 1,2 3\n",
    "#Exatas 4, 5 \n",
    "#Biologicas 6, 7\n",
    "OCDECod = {1:'Humanas', 2:'Humanas',3:'Humanas',4:'Exatas', 5:'Exatas',6:'Biologicas', 7:'Biologicas'}"
   ]
  },
  {
   "cell_type": "code",
   "execution_count": 389,
   "metadata": {},
   "outputs": [
    {
     "data": {
      "text/html": [
       "<div>\n",
       "<style scoped>\n",
       "    .dataframe tbody tr th:only-of-type {\n",
       "        vertical-align: middle;\n",
       "    }\n",
       "\n",
       "    .dataframe tbody tr th {\n",
       "        vertical-align: top;\n",
       "    }\n",
       "\n",
       "    .dataframe thead th {\n",
       "        text-align: right;\n",
       "    }\n",
       "</style>\n",
       "<table border=\"1\" class=\"dataframe\">\n",
       "  <thead>\n",
       "    <tr style=\"text-align: right;\">\n",
       "      <th></th>\n",
       "      <th>CO_OCDE_AREA_GERAL</th>\n",
       "      <th>Masculino</th>\n",
       "      <th>Feminino</th>\n",
       "      <th>Total</th>\n",
       "      <th>MediaMasculino</th>\n",
       "      <th>MediaFeminino</th>\n",
       "    </tr>\n",
       "  </thead>\n",
       "  <tbody>\n",
       "    <tr>\n",
       "      <th>0</th>\n",
       "      <td>1.0</td>\n",
       "      <td>526136</td>\n",
       "      <td>1312140</td>\n",
       "      <td>1838276</td>\n",
       "      <td>0.29</td>\n",
       "      <td>0.71</td>\n",
       "    </tr>\n",
       "    <tr>\n",
       "      <th>1</th>\n",
       "      <td>3.0</td>\n",
       "      <td>1788590</td>\n",
       "      <td>2249276</td>\n",
       "      <td>4037866</td>\n",
       "      <td>0.44</td>\n",
       "      <td>0.56</td>\n",
       "    </tr>\n",
       "    <tr>\n",
       "      <th>2</th>\n",
       "      <td>4.0</td>\n",
       "      <td>314628</td>\n",
       "      <td>144725</td>\n",
       "      <td>459353</td>\n",
       "      <td>0.68</td>\n",
       "      <td>0.32</td>\n",
       "    </tr>\n",
       "    <tr>\n",
       "      <th>3</th>\n",
       "      <td>5.0</td>\n",
       "      <td>912388</td>\n",
       "      <td>429198</td>\n",
       "      <td>1341586</td>\n",
       "      <td>0.68</td>\n",
       "      <td>0.32</td>\n",
       "    </tr>\n",
       "    <tr>\n",
       "      <th>4</th>\n",
       "      <td>6.0</td>\n",
       "      <td>103996</td>\n",
       "      <td>107674</td>\n",
       "      <td>211670</td>\n",
       "      <td>0.49</td>\n",
       "      <td>0.51</td>\n",
       "    </tr>\n",
       "    <tr>\n",
       "      <th>5</th>\n",
       "      <td>7.0</td>\n",
       "      <td>451334</td>\n",
       "      <td>1221041</td>\n",
       "      <td>1672375</td>\n",
       "      <td>0.27</td>\n",
       "      <td>0.73</td>\n",
       "    </tr>\n",
       "    <tr>\n",
       "      <th>6</th>\n",
       "      <td>8.0</td>\n",
       "      <td>50783</td>\n",
       "      <td>89722</td>\n",
       "      <td>140505</td>\n",
       "      <td>0.36</td>\n",
       "      <td>0.64</td>\n",
       "    </tr>\n",
       "  </tbody>\n",
       "</table>\n",
       "</div>"
      ],
      "text/plain": [
       "   CO_OCDE_AREA_GERAL  Masculino  Feminino    Total  MediaMasculino  \\\n",
       "0                 1.0     526136   1312140  1838276            0.29   \n",
       "1                 3.0    1788590   2249276  4037866            0.44   \n",
       "2                 4.0     314628    144725   459353            0.68   \n",
       "3                 5.0     912388    429198  1341586            0.68   \n",
       "4                 6.0     103996    107674   211670            0.49   \n",
       "5                 7.0     451334   1221041  1672375            0.27   \n",
       "6                 8.0      50783     89722   140505            0.36   \n",
       "\n",
       "   MediaFeminino  \n",
       "0           0.71  \n",
       "1           0.56  \n",
       "2           0.32  \n",
       "3           0.32  \n",
       "4           0.51  \n",
       "5           0.73  \n",
       "6           0.64  "
      ]
     },
     "execution_count": 389,
     "metadata": {},
     "output_type": "execute_result"
    }
   ],
   "source": [
    "df"
   ]
  },
  {
   "cell_type": "code",
   "execution_count": null,
   "metadata": {},
   "outputs": [],
   "source": []
  },
  {
   "cell_type": "code",
   "execution_count": null,
   "metadata": {},
   "outputs": [],
   "source": []
  },
  {
   "cell_type": "markdown",
   "metadata": {},
   "source": [
    "### 3 - Quantos cursos novos abrem por ano?"
   ]
  },
  {
   "cell_type": "code",
   "execution_count": 133,
   "metadata": {},
   "outputs": [],
   "source": [
    "cursos = pd.read_csv('3-Dados\\DM_CURSO.CSV', sep = '|', encoding='latin-1', usecols=['DT_INICIO_FUNCIONAMENTO'])"
   ]
  },
  {
   "cell_type": "code",
   "execution_count": 134,
   "metadata": {},
   "outputs": [],
   "source": [
    "cursos.dropna(inplace=True)"
   ]
  },
  {
   "cell_type": "code",
   "execution_count": 135,
   "metadata": {},
   "outputs": [],
   "source": [
    "cursos['Ano'] = cursos['DT_INICIO_FUNCIONAMENTO'].str.slice(6).astype(int)"
   ]
  },
  {
   "cell_type": "code",
   "execution_count": 136,
   "metadata": {},
   "outputs": [],
   "source": [
    "cursos = cursos.sort_values('Ano',ascending = False)"
   ]
  },
  {
   "cell_type": "code",
   "execution_count": 137,
   "metadata": {},
   "outputs": [],
   "source": [
    "cursos = cursos.groupby('Ano', as_index=False).count()"
   ]
  },
  {
   "cell_type": "code",
   "execution_count": 138,
   "metadata": {},
   "outputs": [],
   "source": [
    "cursos = cursos.sort_values('Ano',ascending = False).head(20)"
   ]
  },
  {
   "cell_type": "code",
   "execution_count": 140,
   "metadata": {},
   "outputs": [],
   "source": [
    "cursos = cursos[cursos['DT_INICIO_FUNCIONAMENTO'] > 10]\n",
    "cursos = cursos[cursos['Ano'] < 2017]"
   ]
  },
  {
   "cell_type": "code",
   "execution_count": 141,
   "metadata": {},
   "outputs": [
    {
     "data": {
      "text/html": [
       "<div>\n",
       "<style scoped>\n",
       "    .dataframe tbody tr th:only-of-type {\n",
       "        vertical-align: middle;\n",
       "    }\n",
       "\n",
       "    .dataframe tbody tr th {\n",
       "        vertical-align: top;\n",
       "    }\n",
       "\n",
       "    .dataframe thead th {\n",
       "        text-align: right;\n",
       "    }\n",
       "</style>\n",
       "<table border=\"1\" class=\"dataframe\">\n",
       "  <thead>\n",
       "    <tr style=\"text-align: right;\">\n",
       "      <th></th>\n",
       "      <th>Ano</th>\n",
       "      <th>DT_INICIO_FUNCIONAMENTO</th>\n",
       "    </tr>\n",
       "  </thead>\n",
       "  <tbody>\n",
       "    <tr>\n",
       "      <th>132</th>\n",
       "      <td>2016</td>\n",
       "      <td>1713</td>\n",
       "    </tr>\n",
       "    <tr>\n",
       "      <th>131</th>\n",
       "      <td>2015</td>\n",
       "      <td>1946</td>\n",
       "    </tr>\n",
       "    <tr>\n",
       "      <th>130</th>\n",
       "      <td>2014</td>\n",
       "      <td>1872</td>\n",
       "    </tr>\n",
       "    <tr>\n",
       "      <th>129</th>\n",
       "      <td>2013</td>\n",
       "      <td>1419</td>\n",
       "    </tr>\n",
       "    <tr>\n",
       "      <th>128</th>\n",
       "      <td>2012</td>\n",
       "      <td>1472</td>\n",
       "    </tr>\n",
       "    <tr>\n",
       "      <th>127</th>\n",
       "      <td>2011</td>\n",
       "      <td>1627</td>\n",
       "    </tr>\n",
       "    <tr>\n",
       "      <th>126</th>\n",
       "      <td>2010</td>\n",
       "      <td>1900</td>\n",
       "    </tr>\n",
       "    <tr>\n",
       "      <th>125</th>\n",
       "      <td>2009</td>\n",
       "      <td>2117</td>\n",
       "    </tr>\n",
       "    <tr>\n",
       "      <th>124</th>\n",
       "      <td>2008</td>\n",
       "      <td>1619</td>\n",
       "    </tr>\n",
       "    <tr>\n",
       "      <th>123</th>\n",
       "      <td>2007</td>\n",
       "      <td>1728</td>\n",
       "    </tr>\n",
       "    <tr>\n",
       "      <th>122</th>\n",
       "      <td>2006</td>\n",
       "      <td>1891</td>\n",
       "    </tr>\n",
       "    <tr>\n",
       "      <th>121</th>\n",
       "      <td>2005</td>\n",
       "      <td>1389</td>\n",
       "    </tr>\n",
       "    <tr>\n",
       "      <th>120</th>\n",
       "      <td>2004</td>\n",
       "      <td>1303</td>\n",
       "    </tr>\n",
       "    <tr>\n",
       "      <th>119</th>\n",
       "      <td>2003</td>\n",
       "      <td>1123</td>\n",
       "    </tr>\n",
       "    <tr>\n",
       "      <th>118</th>\n",
       "      <td>2002</td>\n",
       "      <td>1195</td>\n",
       "    </tr>\n",
       "    <tr>\n",
       "      <th>117</th>\n",
       "      <td>2001</td>\n",
       "      <td>1021</td>\n",
       "    </tr>\n",
       "    <tr>\n",
       "      <th>116</th>\n",
       "      <td>2000</td>\n",
       "      <td>932</td>\n",
       "    </tr>\n",
       "  </tbody>\n",
       "</table>\n",
       "</div>"
      ],
      "text/plain": [
       "      Ano  DT_INICIO_FUNCIONAMENTO\n",
       "132  2016                     1713\n",
       "131  2015                     1946\n",
       "130  2014                     1872\n",
       "129  2013                     1419\n",
       "128  2012                     1472\n",
       "127  2011                     1627\n",
       "126  2010                     1900\n",
       "125  2009                     2117\n",
       "124  2008                     1619\n",
       "123  2007                     1728\n",
       "122  2006                     1891\n",
       "121  2005                     1389\n",
       "120  2004                     1303\n",
       "119  2003                     1123\n",
       "118  2002                     1195\n",
       "117  2001                     1021\n",
       "116  2000                      932"
      ]
     },
     "execution_count": 141,
     "metadata": {},
     "output_type": "execute_result"
    }
   ],
   "source": [
    "cursos"
   ]
  },
  {
   "cell_type": "code",
   "execution_count": 142,
   "metadata": {},
   "outputs": [
    {
     "data": {
      "text/plain": [
       "1545.1176470588234"
      ]
     },
     "execution_count": 142,
     "metadata": {},
     "output_type": "execute_result"
    }
   ],
   "source": [
    "cursos['DT_INICIO_FUNCIONAMENTO'].mean()"
   ]
  },
  {
   "cell_type": "markdown",
   "metadata": {},
   "source": [
    "### 4-  Se usarmos a taxa de concluientes de um curso como variável de dificuldade dos cursos, \n",
    "eles tem ficado mais faceis ou mais duros ao longo do tempo? Quais as dificuldades para uma afirmação dessas?"
   ]
  },
  {
   "cell_type": "code",
   "execution_count": 122,
   "metadata": {},
   "outputs": [],
   "source": [
    "cursos = pd.read_csv('3-Dados\\DM_CURSO.CSV', sep = '|', encoding='latin-1')"
   ]
  },
  {
   "cell_type": "code",
   "execution_count": 123,
   "metadata": {},
   "outputs": [],
   "source": [
    "cursos = cursos[['NO_CURSO','DT_INICIO_FUNCIONAMENTO','QT_MATRICULA_TOTAL','QT_CONCLUINTE_TOTAL']][cursos['NO_CURSO'] == 'EDUCAÇÃO FÍSICA']"
   ]
  },
  {
   "cell_type": "code",
   "execution_count": 124,
   "metadata": {},
   "outputs": [],
   "source": [
    "#Se livra dos que não tem data\n",
    "cursos.dropna(inplace = True)"
   ]
  },
  {
   "cell_type": "code",
   "execution_count": 125,
   "metadata": {},
   "outputs": [],
   "source": [
    "#Converte para número\n",
    "cursos['Ano'] = cursos['DT_INICIO_FUNCIONAMENTO'].str.slice(6).astype(int)"
   ]
  },
  {
   "cell_type": "code",
   "execution_count": 126,
   "metadata": {},
   "outputs": [],
   "source": [
    "df = cursos.groupby('Ano', as_index = False).sum()"
   ]
  },
  {
   "cell_type": "code",
   "execution_count": 127,
   "metadata": {},
   "outputs": [],
   "source": [
    "df = df[df['QT_MATRICULA_TOTAL'] > 0]\n",
    "df = df[df['QT_CONCLUINTE_TOTAL'] > 0]"
   ]
  },
  {
   "cell_type": "code",
   "execution_count": 128,
   "metadata": {},
   "outputs": [
    {
     "data": {
      "text/html": [
       "<div>\n",
       "<style scoped>\n",
       "    .dataframe tbody tr th:only-of-type {\n",
       "        vertical-align: middle;\n",
       "    }\n",
       "\n",
       "    .dataframe tbody tr th {\n",
       "        vertical-align: top;\n",
       "    }\n",
       "\n",
       "    .dataframe thead th {\n",
       "        text-align: right;\n",
       "    }\n",
       "</style>\n",
       "<table border=\"1\" class=\"dataframe\">\n",
       "  <thead>\n",
       "    <tr style=\"text-align: right;\">\n",
       "      <th></th>\n",
       "      <th>Ano</th>\n",
       "      <th>QT_MATRICULA_TOTAL</th>\n",
       "      <th>QT_CONCLUINTE_TOTAL</th>\n",
       "    </tr>\n",
       "  </thead>\n",
       "  <tbody>\n",
       "    <tr>\n",
       "      <th>Ano</th>\n",
       "      <td>1.000000</td>\n",
       "      <td>0.545897</td>\n",
       "      <td>0.462835</td>\n",
       "    </tr>\n",
       "    <tr>\n",
       "      <th>QT_MATRICULA_TOTAL</th>\n",
       "      <td>0.545897</td>\n",
       "      <td>1.000000</td>\n",
       "      <td>0.941597</td>\n",
       "    </tr>\n",
       "    <tr>\n",
       "      <th>QT_CONCLUINTE_TOTAL</th>\n",
       "      <td>0.462835</td>\n",
       "      <td>0.941597</td>\n",
       "      <td>1.000000</td>\n",
       "    </tr>\n",
       "  </tbody>\n",
       "</table>\n",
       "</div>"
      ],
      "text/plain": [
       "                          Ano  QT_MATRICULA_TOTAL  QT_CONCLUINTE_TOTAL\n",
       "Ano                  1.000000            0.545897             0.462835\n",
       "QT_MATRICULA_TOTAL   0.545897            1.000000             0.941597\n",
       "QT_CONCLUINTE_TOTAL  0.462835            0.941597             1.000000"
      ]
     },
     "execution_count": 128,
     "metadata": {},
     "output_type": "execute_result"
    }
   ],
   "source": [
    "df.corr()"
   ]
  },
  {
   "cell_type": "code",
   "execution_count": 129,
   "metadata": {},
   "outputs": [],
   "source": [
    "df['ProporcaoConcluentes'] = df['QT_CONCLUINTE_TOTAL'] / df['QT_MATRICULA_TOTAL']"
   ]
  },
  {
   "cell_type": "code",
   "execution_count": 130,
   "metadata": {},
   "outputs": [
    {
     "data": {
      "text/plain": [
       "0.1710700630441744"
      ]
     },
     "execution_count": 130,
     "metadata": {},
     "output_type": "execute_result"
    }
   ],
   "source": [
    "df['ProporcaoConcluentes'].mean()"
   ]
  },
  {
   "cell_type": "code",
   "execution_count": 143,
   "metadata": {},
   "outputs": [
    {
     "data": {
      "text/html": [
       "<div>\n",
       "<style scoped>\n",
       "    .dataframe tbody tr th:only-of-type {\n",
       "        vertical-align: middle;\n",
       "    }\n",
       "\n",
       "    .dataframe tbody tr th {\n",
       "        vertical-align: top;\n",
       "    }\n",
       "\n",
       "    .dataframe thead th {\n",
       "        text-align: right;\n",
       "    }\n",
       "</style>\n",
       "<table border=\"1\" class=\"dataframe\">\n",
       "  <thead>\n",
       "    <tr style=\"text-align: right;\">\n",
       "      <th></th>\n",
       "      <th>Ano</th>\n",
       "      <th>QT_MATRICULA_TOTAL</th>\n",
       "      <th>QT_CONCLUINTE_TOTAL</th>\n",
       "      <th>ProporcaoConcluentes</th>\n",
       "    </tr>\n",
       "  </thead>\n",
       "  <tbody>\n",
       "    <tr>\n",
       "      <th>52</th>\n",
       "      <td>2017</td>\n",
       "      <td>6796</td>\n",
       "      <td>11</td>\n",
       "      <td>0.001619</td>\n",
       "    </tr>\n",
       "    <tr>\n",
       "      <th>51</th>\n",
       "      <td>2016</td>\n",
       "      <td>20759</td>\n",
       "      <td>327</td>\n",
       "      <td>0.015752</td>\n",
       "    </tr>\n",
       "    <tr>\n",
       "      <th>50</th>\n",
       "      <td>2015</td>\n",
       "      <td>16770</td>\n",
       "      <td>345</td>\n",
       "      <td>0.020572</td>\n",
       "    </tr>\n",
       "    <tr>\n",
       "      <th>49</th>\n",
       "      <td>2014</td>\n",
       "      <td>65351</td>\n",
       "      <td>12116</td>\n",
       "      <td>0.185399</td>\n",
       "    </tr>\n",
       "    <tr>\n",
       "      <th>48</th>\n",
       "      <td>2013</td>\n",
       "      <td>5177</td>\n",
       "      <td>827</td>\n",
       "      <td>0.159745</td>\n",
       "    </tr>\n",
       "    <tr>\n",
       "      <th>47</th>\n",
       "      <td>2012</td>\n",
       "      <td>13396</td>\n",
       "      <td>2825</td>\n",
       "      <td>0.210884</td>\n",
       "    </tr>\n",
       "    <tr>\n",
       "      <th>46</th>\n",
       "      <td>2011</td>\n",
       "      <td>8577</td>\n",
       "      <td>1892</td>\n",
       "      <td>0.220590</td>\n",
       "    </tr>\n",
       "    <tr>\n",
       "      <th>45</th>\n",
       "      <td>2010</td>\n",
       "      <td>15026</td>\n",
       "      <td>2400</td>\n",
       "      <td>0.159723</td>\n",
       "    </tr>\n",
       "    <tr>\n",
       "      <th>44</th>\n",
       "      <td>2009</td>\n",
       "      <td>15554</td>\n",
       "      <td>3037</td>\n",
       "      <td>0.195255</td>\n",
       "    </tr>\n",
       "    <tr>\n",
       "      <th>43</th>\n",
       "      <td>2008</td>\n",
       "      <td>13616</td>\n",
       "      <td>2777</td>\n",
       "      <td>0.203951</td>\n",
       "    </tr>\n",
       "    <tr>\n",
       "      <th>42</th>\n",
       "      <td>2007</td>\n",
       "      <td>24735</td>\n",
       "      <td>4975</td>\n",
       "      <td>0.201132</td>\n",
       "    </tr>\n",
       "    <tr>\n",
       "      <th>41</th>\n",
       "      <td>2006</td>\n",
       "      <td>13477</td>\n",
       "      <td>2593</td>\n",
       "      <td>0.192402</td>\n",
       "    </tr>\n",
       "    <tr>\n",
       "      <th>40</th>\n",
       "      <td>2005</td>\n",
       "      <td>14311</td>\n",
       "      <td>2678</td>\n",
       "      <td>0.187129</td>\n",
       "    </tr>\n",
       "    <tr>\n",
       "      <th>39</th>\n",
       "      <td>2004</td>\n",
       "      <td>14434</td>\n",
       "      <td>2806</td>\n",
       "      <td>0.194402</td>\n",
       "    </tr>\n",
       "    <tr>\n",
       "      <th>38</th>\n",
       "      <td>2003</td>\n",
       "      <td>7973</td>\n",
       "      <td>1388</td>\n",
       "      <td>0.174088</td>\n",
       "    </tr>\n",
       "    <tr>\n",
       "      <th>37</th>\n",
       "      <td>2002</td>\n",
       "      <td>9496</td>\n",
       "      <td>1967</td>\n",
       "      <td>0.207140</td>\n",
       "    </tr>\n",
       "    <tr>\n",
       "      <th>36</th>\n",
       "      <td>2001</td>\n",
       "      <td>5771</td>\n",
       "      <td>1216</td>\n",
       "      <td>0.210709</td>\n",
       "    </tr>\n",
       "    <tr>\n",
       "      <th>35</th>\n",
       "      <td>2000</td>\n",
       "      <td>8847</td>\n",
       "      <td>1603</td>\n",
       "      <td>0.181191</td>\n",
       "    </tr>\n",
       "    <tr>\n",
       "      <th>34</th>\n",
       "      <td>1999</td>\n",
       "      <td>5655</td>\n",
       "      <td>1329</td>\n",
       "      <td>0.235013</td>\n",
       "    </tr>\n",
       "    <tr>\n",
       "      <th>33</th>\n",
       "      <td>1998</td>\n",
       "      <td>3645</td>\n",
       "      <td>858</td>\n",
       "      <td>0.235391</td>\n",
       "    </tr>\n",
       "  </tbody>\n",
       "</table>\n",
       "</div>"
      ],
      "text/plain": [
       "     Ano  QT_MATRICULA_TOTAL  QT_CONCLUINTE_TOTAL  ProporcaoConcluentes\n",
       "52  2017                6796                   11              0.001619\n",
       "51  2016               20759                  327              0.015752\n",
       "50  2015               16770                  345              0.020572\n",
       "49  2014               65351                12116              0.185399\n",
       "48  2013                5177                  827              0.159745\n",
       "47  2012               13396                 2825              0.210884\n",
       "46  2011                8577                 1892              0.220590\n",
       "45  2010               15026                 2400              0.159723\n",
       "44  2009               15554                 3037              0.195255\n",
       "43  2008               13616                 2777              0.203951\n",
       "42  2007               24735                 4975              0.201132\n",
       "41  2006               13477                 2593              0.192402\n",
       "40  2005               14311                 2678              0.187129\n",
       "39  2004               14434                 2806              0.194402\n",
       "38  2003                7973                 1388              0.174088\n",
       "37  2002                9496                 1967              0.207140\n",
       "36  2001                5771                 1216              0.210709\n",
       "35  2000                8847                 1603              0.181191\n",
       "34  1999                5655                 1329              0.235013\n",
       "33  1998                3645                  858              0.235391"
      ]
     },
     "execution_count": 143,
     "metadata": {},
     "output_type": "execute_result"
    }
   ],
   "source": [
    "df.sort_values('Ano',ascending = False).head(20)"
   ]
  },
  {
   "cell_type": "code",
   "execution_count": 844,
   "metadata": {},
   "outputs": [],
   "source": [
    "#Descobrir quais cursos tem a melhor taxa de aprovação"
   ]
  },
  {
   "cell_type": "code",
   "execution_count": 845,
   "metadata": {},
   "outputs": [],
   "source": [
    "cursos = pd.read_csv('3-Dados\\DM_CURSO.CSV', sep = '|', encoding='latin-1')"
   ]
  },
  {
   "cell_type": "code",
   "execution_count": 846,
   "metadata": {},
   "outputs": [],
   "source": [
    "cursos = cursos[['NO_CURSO','DT_INICIO_FUNCIONAMENTO','QT_MATRICULA_TOTAL','QT_CONCLUINTE_TOTAL']]"
   ]
  },
  {
   "cell_type": "code",
   "execution_count": 847,
   "metadata": {},
   "outputs": [],
   "source": [
    "cursos.dropna(inplace = True)"
   ]
  },
  {
   "cell_type": "code",
   "execution_count": 852,
   "metadata": {},
   "outputs": [],
   "source": [
    "cursos = cursos[cursos['QT_MATRICULA_TOTAL'] > 0]\n",
    "cursos = cursos[cursos['QT_CONCLUINTE_TOTAL'] > 0]"
   ]
  },
  {
   "cell_type": "code",
   "execution_count": 857,
   "metadata": {},
   "outputs": [],
   "source": [
    "cursos = cursos.groupby('NO_CURSO').sum()"
   ]
  },
  {
   "cell_type": "code",
   "execution_count": 861,
   "metadata": {},
   "outputs": [],
   "source": [
    "cursos = cursos.sort_values('QT_MATRICULA_TOTAL', ascending = False).head(50)"
   ]
  },
  {
   "cell_type": "code",
   "execution_count": 862,
   "metadata": {},
   "outputs": [],
   "source": [
    "cursos['ProporcaoConcluentes'] = cursos['QT_CONCLUINTE_TOTAL'] / cursos['QT_MATRICULA_TOTAL']"
   ]
  },
  {
   "cell_type": "code",
   "execution_count": 864,
   "metadata": {},
   "outputs": [
    {
     "data": {
      "text/html": [
       "<div>\n",
       "<style scoped>\n",
       "    .dataframe tbody tr th:only-of-type {\n",
       "        vertical-align: middle;\n",
       "    }\n",
       "\n",
       "    .dataframe tbody tr th {\n",
       "        vertical-align: top;\n",
       "    }\n",
       "\n",
       "    .dataframe thead th {\n",
       "        text-align: right;\n",
       "    }\n",
       "</style>\n",
       "<table border=\"1\" class=\"dataframe\">\n",
       "  <thead>\n",
       "    <tr style=\"text-align: right;\">\n",
       "      <th></th>\n",
       "      <th>QT_MATRICULA_TOTAL</th>\n",
       "      <th>QT_CONCLUINTE_TOTAL</th>\n",
       "      <th>ProporcaoConcluentes</th>\n",
       "    </tr>\n",
       "    <tr>\n",
       "      <th>NO_CURSO</th>\n",
       "      <th></th>\n",
       "      <th></th>\n",
       "      <th></th>\n",
       "    </tr>\n",
       "  </thead>\n",
       "  <tbody>\n",
       "    <tr>\n",
       "      <td>FÍSICA</td>\n",
       "      <td>30207</td>\n",
       "      <td>2778</td>\n",
       "      <td>0.09196543847452578</td>\n",
       "    </tr>\n",
       "    <tr>\n",
       "      <td>CIÊNCIA DA COMPUTAÇÃO</td>\n",
       "      <td>57383</td>\n",
       "      <td>5965</td>\n",
       "      <td>0.1039506474042835</td>\n",
       "    </tr>\n",
       "    <tr>\n",
       "      <td>MEDICINA VETERINÁRIA</td>\n",
       "      <td>80214</td>\n",
       "      <td>9073</td>\n",
       "      <td>0.11310993093474954</td>\n",
       "    </tr>\n",
       "    <tr>\n",
       "      <td>CIÊNCIAS ECONÔMICAS</td>\n",
       "      <td>46494</td>\n",
       "      <td>5499</td>\n",
       "      <td>0.11827332559039876</td>\n",
       "    </tr>\n",
       "    <tr>\n",
       "      <td>ENGENHARIA MECÂNICA</td>\n",
       "      <td>108586</td>\n",
       "      <td>12930</td>\n",
       "      <td>0.11907612399388504</td>\n",
       "    </tr>\n",
       "    <tr>\n",
       "      <td>ENGENHARIA DE CONTROLE E AUTOMAÇÃO</td>\n",
       "      <td>24819</td>\n",
       "      <td>2970</td>\n",
       "      <td>0.11966638462468271</td>\n",
       "    </tr>\n",
       "    <tr>\n",
       "      <td>FISIOTERAPIA</td>\n",
       "      <td>140780</td>\n",
       "      <td>17116</td>\n",
       "      <td>0.1215797698536724</td>\n",
       "    </tr>\n",
       "    <tr>\n",
       "      <td>ENGENHARIA ELÉTRICA</td>\n",
       "      <td>81409</td>\n",
       "      <td>9946</td>\n",
       "      <td>0.1221732240907025</td>\n",
       "    </tr>\n",
       "    <tr>\n",
       "      <td>QUÍMICA</td>\n",
       "      <td>44692</td>\n",
       "      <td>5557</td>\n",
       "      <td>0.12433992660878905</td>\n",
       "    </tr>\n",
       "    <tr>\n",
       "      <td>MATEMÁTICA</td>\n",
       "      <td>81274</td>\n",
       "      <td>10368</td>\n",
       "      <td>0.12756847208209268</td>\n",
       "    </tr>\n",
       "    <tr>\n",
       "      <td>AGRONOMIA</td>\n",
       "      <td>69266</td>\n",
       "      <td>8844</td>\n",
       "      <td>0.12768169087286693</td>\n",
       "    </tr>\n",
       "    <tr>\n",
       "      <td>DIREITO</td>\n",
       "      <td>858204</td>\n",
       "      <td>113459</td>\n",
       "      <td>0.13220516334111704</td>\n",
       "    </tr>\n",
       "    <tr>\n",
       "      <td>SISTEMAS DE INFORMAÇÃO</td>\n",
       "      <td>54504</td>\n",
       "      <td>7244</td>\n",
       "      <td>0.1329076765008073</td>\n",
       "    </tr>\n",
       "    <tr>\n",
       "      <td>PSICOLOGIA</td>\n",
       "      <td>225703</td>\n",
       "      <td>30233</td>\n",
       "      <td>0.13395036840449617</td>\n",
       "    </tr>\n",
       "    <tr>\n",
       "      <td>ENGENHARIA QUÍMICA</td>\n",
       "      <td>35837</td>\n",
       "      <td>4838</td>\n",
       "      <td>0.1350001395206072</td>\n",
       "    </tr>\n",
       "    <tr>\n",
       "      <td>LETRAS - INGLÊS</td>\n",
       "      <td>25139</td>\n",
       "      <td>3396</td>\n",
       "      <td>0.13508890568439477</td>\n",
       "    </tr>\n",
       "    <tr>\n",
       "      <td>ARQUITETURA E URBANISMO</td>\n",
       "      <td>136815</td>\n",
       "      <td>18588</td>\n",
       "      <td>0.13586229580089904</td>\n",
       "    </tr>\n",
       "    <tr>\n",
       "      <td>NUTRIÇÃO</td>\n",
       "      <td>106819</td>\n",
       "      <td>14535</td>\n",
       "      <td>0.13607129817729055</td>\n",
       "    </tr>\n",
       "    <tr>\n",
       "      <td>MEDICINA</td>\n",
       "      <td>122979</td>\n",
       "      <td>17130</td>\n",
       "      <td>0.13929207425658038</td>\n",
       "    </tr>\n",
       "    <tr>\n",
       "      <td>FILOSOFIA</td>\n",
       "      <td>24549</td>\n",
       "      <td>3472</td>\n",
       "      <td>0.14143142286854862</td>\n",
       "    </tr>\n",
       "    <tr>\n",
       "      <td>ENFERMAGEM</td>\n",
       "      <td>258630</td>\n",
       "      <td>37361</td>\n",
       "      <td>0.14445733286935003</td>\n",
       "    </tr>\n",
       "    <tr>\n",
       "      <td>FARMÁCIA</td>\n",
       "      <td>98514</td>\n",
       "      <td>14482</td>\n",
       "      <td>0.1470044866719451</td>\n",
       "    </tr>\n",
       "    <tr>\n",
       "      <td>ENGENHARIA DE PRODUÇÃO</td>\n",
       "      <td>115669</td>\n",
       "      <td>17236</td>\n",
       "      <td>0.14901140322817696</td>\n",
       "    </tr>\n",
       "    <tr>\n",
       "      <td>GEOGRAFIA</td>\n",
       "      <td>54424</td>\n",
       "      <td>8356</td>\n",
       "      <td>0.15353520505659268</td>\n",
       "    </tr>\n",
       "    <tr>\n",
       "      <td>ANÁLISE E DESENVOLVIMENTO DE SISTEMAS</td>\n",
       "      <td>84259</td>\n",
       "      <td>13152</td>\n",
       "      <td>0.1560901506070568</td>\n",
       "    </tr>\n",
       "    <tr>\n",
       "      <td>ENGENHARIA CIVIL</td>\n",
       "      <td>276968</td>\n",
       "      <td>43383</td>\n",
       "      <td>0.15663542358684035</td>\n",
       "    </tr>\n",
       "    <tr>\n",
       "      <td>BIOMEDICINA</td>\n",
       "      <td>56113</td>\n",
       "      <td>8795</td>\n",
       "      <td>0.15673729795234617</td>\n",
       "    </tr>\n",
       "    <tr>\n",
       "      <td>HISTÓRIA</td>\n",
       "      <td>85486</td>\n",
       "      <td>13563</td>\n",
       "      <td>0.15865755796270734</td>\n",
       "    </tr>\n",
       "    <tr>\n",
       "      <td>LETRAS - PORTUGUÊS E INGLÊS</td>\n",
       "      <td>27390</td>\n",
       "      <td>4390</td>\n",
       "      <td>0.16027747353048558</td>\n",
       "    </tr>\n",
       "    <tr>\n",
       "      <td>CIÊNCIAS CONTÁBEIS</td>\n",
       "      <td>341875</td>\n",
       "      <td>55161</td>\n",
       "      <td>0.16134844606946983</td>\n",
       "    </tr>\n",
       "    <tr>\n",
       "      <td>CIÊNCIAS BIOLÓGICAS</td>\n",
       "      <td>103677</td>\n",
       "      <td>16743</td>\n",
       "      <td>0.16149194131774647</td>\n",
       "    </tr>\n",
       "    <tr>\n",
       "      <td>ODONTOLOGIA</td>\n",
       "      <td>99898</td>\n",
       "      <td>16687</td>\n",
       "      <td>0.1670403811888126</td>\n",
       "    </tr>\n",
       "    <tr>\n",
       "      <td>LETRAS - PORTUGUÊS</td>\n",
       "      <td>25412</td>\n",
       "      <td>4284</td>\n",
       "      <td>0.1685817723909964</td>\n",
       "    </tr>\n",
       "    <tr>\n",
       "      <td>ADMINISTRAÇÃO</td>\n",
       "      <td>653601</td>\n",
       "      <td>111793</td>\n",
       "      <td>0.17104165997298046</td>\n",
       "    </tr>\n",
       "    <tr>\n",
       "      <td>JORNALISMO</td>\n",
       "      <td>31853</td>\n",
       "      <td>5496</td>\n",
       "      <td>0.1725426176498289</td>\n",
       "    </tr>\n",
       "    <tr>\n",
       "      <td>GESTÃO DA TECNOLOGIA DA INFORMAÇÃO</td>\n",
       "      <td>27241</td>\n",
       "      <td>4752</td>\n",
       "      <td>0.17444293528137733</td>\n",
       "    </tr>\n",
       "    <tr>\n",
       "      <td>COMUNICAÇÃO SOCIAL - PUBLICIDADE E PROPAGANDA</td>\n",
       "      <td>55961</td>\n",
       "      <td>10150</td>\n",
       "      <td>0.18137631564839798</td>\n",
       "    </tr>\n",
       "    <tr>\n",
       "      <td>GESTÃO COMERCIAL</td>\n",
       "      <td>33648</td>\n",
       "      <td>6276</td>\n",
       "      <td>0.18651925820256776</td>\n",
       "    </tr>\n",
       "    <tr>\n",
       "      <td>PEDAGOGIA</td>\n",
       "      <td>665205</td>\n",
       "      <td>124214</td>\n",
       "      <td>0.18673040641606722</td>\n",
       "    </tr>\n",
       "    <tr>\n",
       "      <td>LETRAS - LÍNGUA PORTUGUESA</td>\n",
       "      <td>27418</td>\n",
       "      <td>5140</td>\n",
       "      <td>0.1874680866583996</td>\n",
       "    </tr>\n",
       "    <tr>\n",
       "      <td>SERVIÇO SOCIAL</td>\n",
       "      <td>143186</td>\n",
       "      <td>27971</td>\n",
       "      <td>0.19534731049124915</td>\n",
       "    </tr>\n",
       "    <tr>\n",
       "      <td>EDUCAÇÃO FÍSICA</td>\n",
       "      <td>280538</td>\n",
       "      <td>55224</td>\n",
       "      <td>0.19685033756567738</td>\n",
       "    </tr>\n",
       "    <tr>\n",
       "      <td>MARKETING</td>\n",
       "      <td>43969</td>\n",
       "      <td>8738</td>\n",
       "      <td>0.19873092406013326</td>\n",
       "    </tr>\n",
       "    <tr>\n",
       "      <td>PROCESSOS GERENCIAIS</td>\n",
       "      <td>65797</td>\n",
       "      <td>14328</td>\n",
       "      <td>0.2177606881772725</td>\n",
       "    </tr>\n",
       "    <tr>\n",
       "      <td>GESTÃO FINANCEIRA</td>\n",
       "      <td>41128</td>\n",
       "      <td>9148</td>\n",
       "      <td>0.2224275432795176</td>\n",
       "    </tr>\n",
       "    <tr>\n",
       "      <td>LOGÍSTICA</td>\n",
       "      <td>76217</td>\n",
       "      <td>17273</td>\n",
       "      <td>0.2266292296994109</td>\n",
       "    </tr>\n",
       "    <tr>\n",
       "      <td>GESTÃO PÚBLICA</td>\n",
       "      <td>40409</td>\n",
       "      <td>9657</td>\n",
       "      <td>0.2389814150313049</td>\n",
       "    </tr>\n",
       "    <tr>\n",
       "      <td>GASTRONOMIA</td>\n",
       "      <td>27172</td>\n",
       "      <td>6758</td>\n",
       "      <td>0.24871190931841602</td>\n",
       "    </tr>\n",
       "    <tr>\n",
       "      <td>GESTÃO AMBIENTAL</td>\n",
       "      <td>32009</td>\n",
       "      <td>8064</td>\n",
       "      <td>0.251929144927989</td>\n",
       "    </tr>\n",
       "    <tr>\n",
       "      <td>GESTÃO DE RECURSOS HUMANOS</td>\n",
       "      <td>150590</td>\n",
       "      <td>38298</td>\n",
       "      <td>0.25431967594129756</td>\n",
       "    </tr>\n",
       "  </tbody>\n",
       "</table>\n",
       "</div>"
      ],
      "text/plain": [
       "                                               QT_MATRICULA_TOTAL  \\\n",
       "NO_CURSO                                                            \n",
       "FÍSICA                                                      30207   \n",
       "CIÊNCIA DA COMPUTAÇÃO                                       57383   \n",
       "MEDICINA VETERINÁRIA                                        80214   \n",
       "CIÊNCIAS ECONÔMICAS                                         46494   \n",
       "ENGENHARIA MECÂNICA                                        108586   \n",
       "ENGENHARIA DE CONTROLE E AUTOMAÇÃO                          24819   \n",
       "FISIOTERAPIA                                               140780   \n",
       "ENGENHARIA ELÉTRICA                                         81409   \n",
       "QUÍMICA                                                     44692   \n",
       "MATEMÁTICA                                                  81274   \n",
       "AGRONOMIA                                                   69266   \n",
       "DIREITO                                                    858204   \n",
       "SISTEMAS DE INFORMAÇÃO                                      54504   \n",
       "PSICOLOGIA                                                 225703   \n",
       "ENGENHARIA QUÍMICA                                          35837   \n",
       "LETRAS - INGLÊS                                             25139   \n",
       "ARQUITETURA E URBANISMO                                    136815   \n",
       "NUTRIÇÃO                                                   106819   \n",
       "MEDICINA                                                   122979   \n",
       "FILOSOFIA                                                   24549   \n",
       "ENFERMAGEM                                                 258630   \n",
       "FARMÁCIA                                                    98514   \n",
       "ENGENHARIA DE PRODUÇÃO                                     115669   \n",
       "GEOGRAFIA                                                   54424   \n",
       "ANÁLISE E DESENVOLVIMENTO DE SISTEMAS                       84259   \n",
       "ENGENHARIA CIVIL                                           276968   \n",
       "BIOMEDICINA                                                 56113   \n",
       "HISTÓRIA                                                    85486   \n",
       "LETRAS - PORTUGUÊS E INGLÊS                                 27390   \n",
       "CIÊNCIAS CONTÁBEIS                                         341875   \n",
       "CIÊNCIAS BIOLÓGICAS                                        103677   \n",
       "ODONTOLOGIA                                                 99898   \n",
       "LETRAS - PORTUGUÊS                                          25412   \n",
       "ADMINISTRAÇÃO                                              653601   \n",
       "JORNALISMO                                                  31853   \n",
       "GESTÃO DA TECNOLOGIA DA INFORMAÇÃO                          27241   \n",
       "COMUNICAÇÃO SOCIAL - PUBLICIDADE E PROPAGANDA               55961   \n",
       "GESTÃO COMERCIAL                                            33648   \n",
       "PEDAGOGIA                                                  665205   \n",
       "LETRAS - LÍNGUA PORTUGUESA                                  27418   \n",
       "SERVIÇO SOCIAL                                             143186   \n",
       "EDUCAÇÃO FÍSICA                                            280538   \n",
       "MARKETING                                                   43969   \n",
       "PROCESSOS GERENCIAIS                                        65797   \n",
       "GESTÃO FINANCEIRA                                           41128   \n",
       "LOGÍSTICA                                                   76217   \n",
       "GESTÃO PÚBLICA                                              40409   \n",
       "GASTRONOMIA                                                 27172   \n",
       "GESTÃO AMBIENTAL                                            32009   \n",
       "GESTÃO DE RECURSOS HUMANOS                                 150590   \n",
       "\n",
       "                                               QT_CONCLUINTE_TOTAL  \\\n",
       "NO_CURSO                                                             \n",
       "FÍSICA                                                        2778   \n",
       "CIÊNCIA DA COMPUTAÇÃO                                         5965   \n",
       "MEDICINA VETERINÁRIA                                          9073   \n",
       "CIÊNCIAS ECONÔMICAS                                           5499   \n",
       "ENGENHARIA MECÂNICA                                          12930   \n",
       "ENGENHARIA DE CONTROLE E AUTOMAÇÃO                            2970   \n",
       "FISIOTERAPIA                                                 17116   \n",
       "ENGENHARIA ELÉTRICA                                           9946   \n",
       "QUÍMICA                                                       5557   \n",
       "MATEMÁTICA                                                   10368   \n",
       "AGRONOMIA                                                     8844   \n",
       "DIREITO                                                     113459   \n",
       "SISTEMAS DE INFORMAÇÃO                                        7244   \n",
       "PSICOLOGIA                                                   30233   \n",
       "ENGENHARIA QUÍMICA                                            4838   \n",
       "LETRAS - INGLÊS                                               3396   \n",
       "ARQUITETURA E URBANISMO                                      18588   \n",
       "NUTRIÇÃO                                                     14535   \n",
       "MEDICINA                                                     17130   \n",
       "FILOSOFIA                                                     3472   \n",
       "ENFERMAGEM                                                   37361   \n",
       "FARMÁCIA                                                     14482   \n",
       "ENGENHARIA DE PRODUÇÃO                                       17236   \n",
       "GEOGRAFIA                                                     8356   \n",
       "ANÁLISE E DESENVOLVIMENTO DE SISTEMAS                        13152   \n",
       "ENGENHARIA CIVIL                                             43383   \n",
       "BIOMEDICINA                                                   8795   \n",
       "HISTÓRIA                                                     13563   \n",
       "LETRAS - PORTUGUÊS E INGLÊS                                   4390   \n",
       "CIÊNCIAS CONTÁBEIS                                           55161   \n",
       "CIÊNCIAS BIOLÓGICAS                                          16743   \n",
       "ODONTOLOGIA                                                  16687   \n",
       "LETRAS - PORTUGUÊS                                            4284   \n",
       "ADMINISTRAÇÃO                                               111793   \n",
       "JORNALISMO                                                    5496   \n",
       "GESTÃO DA TECNOLOGIA DA INFORMAÇÃO                            4752   \n",
       "COMUNICAÇÃO SOCIAL - PUBLICIDADE E PROPAGANDA                10150   \n",
       "GESTÃO COMERCIAL                                              6276   \n",
       "PEDAGOGIA                                                   124214   \n",
       "LETRAS - LÍNGUA PORTUGUESA                                    5140   \n",
       "SERVIÇO SOCIAL                                               27971   \n",
       "EDUCAÇÃO FÍSICA                                              55224   \n",
       "MARKETING                                                     8738   \n",
       "PROCESSOS GERENCIAIS                                         14328   \n",
       "GESTÃO FINANCEIRA                                             9148   \n",
       "LOGÍSTICA                                                    17273   \n",
       "GESTÃO PÚBLICA                                                9657   \n",
       "GASTRONOMIA                                                   6758   \n",
       "GESTÃO AMBIENTAL                                              8064   \n",
       "GESTÃO DE RECURSOS HUMANOS                                   38298   \n",
       "\n",
       "                                               ProporcaoConcluentes  \n",
       "NO_CURSO                                                             \n",
       "FÍSICA                                          0.09196543847452578  \n",
       "CIÊNCIA DA COMPUTAÇÃO                            0.1039506474042835  \n",
       "MEDICINA VETERINÁRIA                            0.11310993093474954  \n",
       "CIÊNCIAS ECONÔMICAS                             0.11827332559039876  \n",
       "ENGENHARIA MECÂNICA                             0.11907612399388504  \n",
       "ENGENHARIA DE CONTROLE E AUTOMAÇÃO              0.11966638462468271  \n",
       "FISIOTERAPIA                                     0.1215797698536724  \n",
       "ENGENHARIA ELÉTRICA                              0.1221732240907025  \n",
       "QUÍMICA                                         0.12433992660878905  \n",
       "MATEMÁTICA                                      0.12756847208209268  \n",
       "AGRONOMIA                                       0.12768169087286693  \n",
       "DIREITO                                         0.13220516334111704  \n",
       "SISTEMAS DE INFORMAÇÃO                           0.1329076765008073  \n",
       "PSICOLOGIA                                      0.13395036840449617  \n",
       "ENGENHARIA QUÍMICA                               0.1350001395206072  \n",
       "LETRAS - INGLÊS                                 0.13508890568439477  \n",
       "ARQUITETURA E URBANISMO                         0.13586229580089904  \n",
       "NUTRIÇÃO                                        0.13607129817729055  \n",
       "MEDICINA                                        0.13929207425658038  \n",
       "FILOSOFIA                                       0.14143142286854862  \n",
       "ENFERMAGEM                                      0.14445733286935003  \n",
       "FARMÁCIA                                         0.1470044866719451  \n",
       "ENGENHARIA DE PRODUÇÃO                          0.14901140322817696  \n",
       "GEOGRAFIA                                       0.15353520505659268  \n",
       "ANÁLISE E DESENVOLVIMENTO DE SISTEMAS            0.1560901506070568  \n",
       "ENGENHARIA CIVIL                                0.15663542358684035  \n",
       "BIOMEDICINA                                     0.15673729795234617  \n",
       "HISTÓRIA                                        0.15865755796270734  \n",
       "LETRAS - PORTUGUÊS E INGLÊS                     0.16027747353048558  \n",
       "CIÊNCIAS CONTÁBEIS                              0.16134844606946983  \n",
       "CIÊNCIAS BIOLÓGICAS                             0.16149194131774647  \n",
       "ODONTOLOGIA                                      0.1670403811888126  \n",
       "LETRAS - PORTUGUÊS                               0.1685817723909964  \n",
       "ADMINISTRAÇÃO                                   0.17104165997298046  \n",
       "JORNALISMO                                       0.1725426176498289  \n",
       "GESTÃO DA TECNOLOGIA DA INFORMAÇÃO              0.17444293528137733  \n",
       "COMUNICAÇÃO SOCIAL - PUBLICIDADE E PROPAGANDA   0.18137631564839798  \n",
       "GESTÃO COMERCIAL                                0.18651925820256776  \n",
       "PEDAGOGIA                                       0.18673040641606722  \n",
       "LETRAS - LÍNGUA PORTUGUESA                       0.1874680866583996  \n",
       "SERVIÇO SOCIAL                                  0.19534731049124915  \n",
       "EDUCAÇÃO FÍSICA                                 0.19685033756567738  \n",
       "MARKETING                                       0.19873092406013326  \n",
       "PROCESSOS GERENCIAIS                             0.2177606881772725  \n",
       "GESTÃO FINANCEIRA                                0.2224275432795176  \n",
       "LOGÍSTICA                                        0.2266292296994109  \n",
       "GESTÃO PÚBLICA                                   0.2389814150313049  \n",
       "GASTRONOMIA                                     0.24871190931841602  \n",
       "GESTÃO AMBIENTAL                                  0.251929144927989  \n",
       "GESTÃO DE RECURSOS HUMANOS                      0.25431967594129756  "
      ]
     },
     "execution_count": 864,
     "metadata": {},
     "output_type": "execute_result"
    }
   ],
   "source": [
    "cursos.sort_values('ProporcaoConcluentes')"
   ]
  },
  {
   "cell_type": "markdown",
   "metadata": {},
   "source": [
    "### 5-Rode uma regressão multipla que explique o abandono dos cursos, \n",
    "será que professores mais/menos preparados influência nessas taxas?"
   ]
  },
  {
   "cell_type": "markdown",
   "metadata": {},
   "source": [
    "### 6- Quais os cursos com maior crescimento de matriculas por região? "
   ]
  },
  {
   "cell_type": "code",
   "execution_count": 260,
   "metadata": {},
   "outputs": [],
   "source": [
    "cursos = pd.read_csv('3-Dados\\DM_CURSO.CSV', sep = '|', encoding='latin-1')"
   ]
  },
  {
   "cell_type": "code",
   "execution_count": 261,
   "metadata": {},
   "outputs": [],
   "source": [
    "alunos = pd.read_csv('3-Dados\\DM_ALUNO.CSV', sep = '|', encoding='latin-1',usecols = ['CO_ALUNO','CO_CURSO','NU_ANO_INGRESSO'])"
   ]
  },
  {
   "cell_type": "code",
   "execution_count": 262,
   "metadata": {},
   "outputs": [],
   "source": [
    "grupoalunos = alunos.groupby(['NU_ANO_INGRESSO','CO_CURSO'], as_index = False).count()"
   ]
  },
  {
   "cell_type": "code",
   "execution_count": 263,
   "metadata": {},
   "outputs": [
    {
     "data": {
      "text/html": [
       "<div>\n",
       "<style scoped>\n",
       "    .dataframe tbody tr th:only-of-type {\n",
       "        vertical-align: middle;\n",
       "    }\n",
       "\n",
       "    .dataframe tbody tr th {\n",
       "        vertical-align: top;\n",
       "    }\n",
       "\n",
       "    .dataframe thead th {\n",
       "        text-align: right;\n",
       "    }\n",
       "</style>\n",
       "<table border=\"1\" class=\"dataframe\">\n",
       "  <thead>\n",
       "    <tr style=\"text-align: right;\">\n",
       "      <th></th>\n",
       "      <th>NU_ANO_INGRESSO</th>\n",
       "      <th>CO_CURSO</th>\n",
       "      <th>CO_ALUNO</th>\n",
       "    </tr>\n",
       "  </thead>\n",
       "  <tbody>\n",
       "    <tr>\n",
       "      <th>0</th>\n",
       "      <td>1972</td>\n",
       "      <td>2199</td>\n",
       "      <td>1</td>\n",
       "    </tr>\n",
       "    <tr>\n",
       "      <th>1</th>\n",
       "      <td>1974</td>\n",
       "      <td>13398</td>\n",
       "      <td>1</td>\n",
       "    </tr>\n",
       "    <tr>\n",
       "      <th>2</th>\n",
       "      <td>1974</td>\n",
       "      <td>13418</td>\n",
       "      <td>1</td>\n",
       "    </tr>\n",
       "    <tr>\n",
       "      <th>3</th>\n",
       "      <td>1975</td>\n",
       "      <td>6811</td>\n",
       "      <td>1</td>\n",
       "    </tr>\n",
       "    <tr>\n",
       "      <th>4</th>\n",
       "      <td>1976</td>\n",
       "      <td>22220</td>\n",
       "      <td>1</td>\n",
       "    </tr>\n",
       "  </tbody>\n",
       "</table>\n",
       "</div>"
      ],
      "text/plain": [
       "   NU_ANO_INGRESSO  CO_CURSO  CO_ALUNO\n",
       "0             1972      2199         1\n",
       "1             1974     13398         1\n",
       "2             1974     13418         1\n",
       "3             1975      6811         1\n",
       "4             1976     22220         1"
      ]
     },
     "execution_count": 263,
     "metadata": {},
     "output_type": "execute_result"
    }
   ],
   "source": [
    "grupoalunos.head()"
   ]
  },
  {
   "cell_type": "code",
   "execution_count": 264,
   "metadata": {},
   "outputs": [],
   "source": [
    "cursos = cursos[['CO_CURSO','CO_OCDE','CO_UF']]"
   ]
  },
  {
   "cell_type": "code",
   "execution_count": 169,
   "metadata": {},
   "outputs": [],
   "source": [
    "#cursos['CO_UF'] = cursos['CO_UF'].replace(UF)"
   ]
  },
  {
   "cell_type": "code",
   "execution_count": 265,
   "metadata": {},
   "outputs": [],
   "source": [
    "grupoalunos = pd.merge(grupoalunos, cursos)"
   ]
  },
  {
   "cell_type": "code",
   "execution_count": 269,
   "metadata": {},
   "outputs": [
    {
     "data": {
      "text/html": [
       "<div>\n",
       "<style scoped>\n",
       "    .dataframe tbody tr th:only-of-type {\n",
       "        vertical-align: middle;\n",
       "    }\n",
       "\n",
       "    .dataframe tbody tr th {\n",
       "        vertical-align: top;\n",
       "    }\n",
       "\n",
       "    .dataframe thead th {\n",
       "        text-align: right;\n",
       "    }\n",
       "</style>\n",
       "<table border=\"1\" class=\"dataframe\">\n",
       "  <thead>\n",
       "    <tr style=\"text-align: right;\">\n",
       "      <th></th>\n",
       "      <th>NU_ANO_INGRESSO</th>\n",
       "      <th>CO_CURSO</th>\n",
       "      <th>CO_ALUNO</th>\n",
       "      <th>CO_OCDE</th>\n",
       "      <th>CO_UF</th>\n",
       "    </tr>\n",
       "  </thead>\n",
       "  <tbody>\n",
       "    <tr>\n",
       "      <th>212439</th>\n",
       "      <td>2013</td>\n",
       "      <td>1315488</td>\n",
       "      <td>1</td>\n",
       "      <td>624T01</td>\n",
       "      <td>13.0</td>\n",
       "    </tr>\n",
       "    <tr>\n",
       "      <th>221297</th>\n",
       "      <td>2014</td>\n",
       "      <td>1315486</td>\n",
       "      <td>36</td>\n",
       "      <td>624T01</td>\n",
       "      <td>13.0</td>\n",
       "    </tr>\n",
       "    <tr>\n",
       "      <th>221298</th>\n",
       "      <td>2014</td>\n",
       "      <td>1315487</td>\n",
       "      <td>39</td>\n",
       "      <td>624T01</td>\n",
       "      <td>13.0</td>\n",
       "    </tr>\n",
       "    <tr>\n",
       "      <th>227423</th>\n",
       "      <td>2015</td>\n",
       "      <td>1330298</td>\n",
       "      <td>41</td>\n",
       "      <td>624T01</td>\n",
       "      <td>13.0</td>\n",
       "    </tr>\n",
       "    <tr>\n",
       "      <th>227647</th>\n",
       "      <td>2015</td>\n",
       "      <td>1343885</td>\n",
       "      <td>38</td>\n",
       "      <td>624T01</td>\n",
       "      <td>13.0</td>\n",
       "    </tr>\n",
       "    <tr>\n",
       "      <th>227650</th>\n",
       "      <td>2015</td>\n",
       "      <td>1344174</td>\n",
       "      <td>36</td>\n",
       "      <td>624T01</td>\n",
       "      <td>13.0</td>\n",
       "    </tr>\n",
       "    <tr>\n",
       "      <th>227665</th>\n",
       "      <td>2015</td>\n",
       "      <td>1344228</td>\n",
       "      <td>23</td>\n",
       "      <td>624T01</td>\n",
       "      <td>13.0</td>\n",
       "    </tr>\n",
       "  </tbody>\n",
       "</table>\n",
       "</div>"
      ],
      "text/plain": [
       "        NU_ANO_INGRESSO  CO_CURSO  CO_ALUNO CO_OCDE  CO_UF\n",
       "212439             2013   1315488         1  624T01   13.0\n",
       "221297             2014   1315486        36  624T01   13.0\n",
       "221298             2014   1315487        39  624T01   13.0\n",
       "227423             2015   1330298        41  624T01   13.0\n",
       "227647             2015   1343885        38  624T01   13.0\n",
       "227650             2015   1344174        36  624T01   13.0\n",
       "227665             2015   1344228        23  624T01   13.0"
      ]
     },
     "execution_count": 269,
     "metadata": {},
     "output_type": "execute_result"
    }
   ],
   "source": [
    "grupoalunos[grupoalunos['CO_OCDE'] == '624T01']"
   ]
  },
  {
   "cell_type": "code",
   "execution_count": 270,
   "metadata": {
    "scrolled": true
   },
   "outputs": [],
   "source": [
    "del grupoalunos['CO_CURSO']\n",
    "del grupoalunos['CO_UF'] #Provisorio"
   ]
  },
  {
   "cell_type": "code",
   "execution_count": 271,
   "metadata": {},
   "outputs": [],
   "source": [
    "grupoalunos = grupoalunos.groupby(['NU_ANO_INGRESSO','CO_OCDE'], as_index = False).sum()"
   ]
  },
  {
   "cell_type": "code",
   "execution_count": 275,
   "metadata": {},
   "outputs": [
    {
     "data": {
      "text/html": [
       "<div>\n",
       "<style scoped>\n",
       "    .dataframe tbody tr th:only-of-type {\n",
       "        vertical-align: middle;\n",
       "    }\n",
       "\n",
       "    .dataframe tbody tr th {\n",
       "        vertical-align: top;\n",
       "    }\n",
       "\n",
       "    .dataframe thead th {\n",
       "        text-align: right;\n",
       "    }\n",
       "</style>\n",
       "<table border=\"1\" class=\"dataframe\">\n",
       "  <thead>\n",
       "    <tr style=\"text-align: right;\">\n",
       "      <th></th>\n",
       "      <th>NU_ANO_INGRESSO</th>\n",
       "      <th>CO_OCDE</th>\n",
       "      <th>CO_ALUNO</th>\n",
       "    </tr>\n",
       "  </thead>\n",
       "  <tbody>\n",
       "    <tr>\n",
       "      <th>2019</th>\n",
       "      <td>2009</td>\n",
       "      <td>421B12</td>\n",
       "      <td>1</td>\n",
       "    </tr>\n",
       "    <tr>\n",
       "      <th>2895</th>\n",
       "      <td>2012</td>\n",
       "      <td>421B12</td>\n",
       "      <td>1</td>\n",
       "    </tr>\n",
       "    <tr>\n",
       "      <th>3211</th>\n",
       "      <td>2013</td>\n",
       "      <td>421B12</td>\n",
       "      <td>11</td>\n",
       "    </tr>\n",
       "    <tr>\n",
       "      <th>3852</th>\n",
       "      <td>2015</td>\n",
       "      <td>421B12</td>\n",
       "      <td>1</td>\n",
       "    </tr>\n",
       "    <tr>\n",
       "      <th>4176</th>\n",
       "      <td>2016</td>\n",
       "      <td>421B12</td>\n",
       "      <td>31</td>\n",
       "    </tr>\n",
       "    <tr>\n",
       "      <th>4499</th>\n",
       "      <td>2017</td>\n",
       "      <td>421B12</td>\n",
       "      <td>40</td>\n",
       "    </tr>\n",
       "  </tbody>\n",
       "</table>\n",
       "</div>"
      ],
      "text/plain": [
       "      NU_ANO_INGRESSO CO_OCDE  CO_ALUNO\n",
       "2019             2009  421B12         1\n",
       "2895             2012  421B12         1\n",
       "3211             2013  421B12        11\n",
       "3852             2015  421B12         1\n",
       "4176             2016  421B12        31\n",
       "4499             2017  421B12        40"
      ]
     },
     "execution_count": 275,
     "metadata": {},
     "output_type": "execute_result"
    }
   ],
   "source": [
    "grupoalunos[grupoalunos['CO_OCDE'] == '421B12']"
   ]
  },
  {
   "cell_type": "code",
   "execution_count": 235,
   "metadata": {},
   "outputs": [
    {
     "name": "stderr",
     "output_type": "stream",
     "text": [
      "C:\\Users\\BRMFARIN\\AppData\\Local\\Continuum\\anaconda3\\lib\\site-packages\\ipykernel_launcher.py:10: FutureWarning: Sorting because non-concatenation axis is not aligned. A future version\n",
      "of pandas will change to not sort by default.\n",
      "\n",
      "To accept the future behavior, pass 'sort=False'.\n",
      "\n",
      "To retain the current behavior and silence the warning, pass 'sort=True'.\n",
      "\n",
      "  # Remove the CWD from sys.path while we load stuff.\n"
     ]
    }
   ],
   "source": [
    "df = pd.DataFrame(columns = grupoalunos.columns)\n",
    "df['ANO_ANTERIOR'] = np.nan\n",
    "for curso in grupoalunos['CO_OCDE'].unique(): #['142P01']:\n",
    "    teste = grupoalunos[['NU_ANO_INGRESSO','CO_OCDE','CO_ALUNO']][grupoalunos['CO_OCDE']==curso]\n",
    "    teste['ANO_ANTERIOR'] = teste['CO_ALUNO'].shift(1)\n",
    "    teste.dropna(inplace = True)\n",
    "    teste['Diferenca'] = (teste['CO_ALUNO'] - teste['ANO_ANTERIOR']) / teste['ANO_ANTERIOR']\n",
    "    #display(teste)\n",
    "    \n",
    "    df = pd.concat([df,teste])"
   ]
  },
  {
   "cell_type": "code",
   "execution_count": 249,
   "metadata": {},
   "outputs": [
    {
     "data": {
      "text/html": [
       "<div>\n",
       "<style scoped>\n",
       "    .dataframe tbody tr th:only-of-type {\n",
       "        vertical-align: middle;\n",
       "    }\n",
       "\n",
       "    .dataframe tbody tr th {\n",
       "        vertical-align: top;\n",
       "    }\n",
       "\n",
       "    .dataframe thead th {\n",
       "        text-align: right;\n",
       "    }\n",
       "</style>\n",
       "<table border=\"1\" class=\"dataframe\">\n",
       "  <thead>\n",
       "    <tr style=\"text-align: right;\">\n",
       "      <th></th>\n",
       "      <th>Diferenca</th>\n",
       "    </tr>\n",
       "    <tr>\n",
       "      <th>CO_OCDE</th>\n",
       "      <th></th>\n",
       "    </tr>\n",
       "  </thead>\n",
       "  <tbody>\n",
       "    <tr>\n",
       "      <th>624T01</th>\n",
       "      <td>37.420000</td>\n",
       "    </tr>\n",
       "    <tr>\n",
       "      <th>421B12</th>\n",
       "      <td>7.876246</td>\n",
       "    </tr>\n",
       "    <tr>\n",
       "      <th>522R01</th>\n",
       "      <td>6.814815</td>\n",
       "    </tr>\n",
       "    <tr>\n",
       "      <th>525T01</th>\n",
       "      <td>6.000000</td>\n",
       "    </tr>\n",
       "    <tr>\n",
       "      <th>542I01</th>\n",
       "      <td>4.626342</td>\n",
       "    </tr>\n",
       "  </tbody>\n",
       "</table>\n",
       "</div>"
      ],
      "text/plain": [
       "         Diferenca\n",
       "CO_OCDE           \n",
       "624T01   37.420000\n",
       "421B12    7.876246\n",
       "522R01    6.814815\n",
       "525T01    6.000000\n",
       "542I01    4.626342"
      ]
     },
     "execution_count": 249,
     "metadata": {},
     "output_type": "execute_result"
    }
   ],
   "source": [
    "#Cursos com maior taxa de crescimento\n",
    "df[['CO_OCDE','Diferenca']].groupby('CO_OCDE').mean().sort_values(by='Diferenca', ascending = False).head(5)"
   ]
  },
  {
   "cell_type": "code",
   "execution_count": 258,
   "metadata": {},
   "outputs": [],
   "source": [
    "#cursos[cursos['CO_OCDE'] == '525T01']"
   ]
  },
  {
   "cell_type": "markdown",
   "metadata": {},
   "source": [
    "### 7-Construa uma variável \"Signo\" dos estudantes e explique porque ela é correlacionada com a variável \"probabilidade de formação\" (construir)"
   ]
  },
  {
   "cell_type": "code",
   "execution_count": null,
   "metadata": {},
   "outputs": [],
   "source": [
    "def signo(data):\n",
    "        dia = input(\"digite o dia de se nascimento: \")\n",
    "    mes = input(\"digite o mes do seu nascimento: \")\n",
    "    if dia>=20 and d\n",
    "    ia<=31 and mes==3 or dia>=1 and dia<=20 and  mes==4:\n",
    "       print \"aries\"\n",
    "    elif dia>=21 and dia<=30 and mes==4 or dia>=1 and dia<=20 and mes==5:\n",
    "       print \"touro\"\n",
    "    elif dia>=21 and dia<=31 and mes==5 or dia>=1 and dia<=20 and mes==6:\n",
    "       print \"gemeos\"\n",
    "    elif dia>=21 and dia<=30 and mes==6 or dia>=1 and dia<=21 and mes==7:\n",
    "       print \"cancer\"\n",
    "    elif dia>=22 and dia<=31 and mes==7 or dia>=1 and dia<=22 and mes==8:\n",
    "       print \"leao\"\n",
    "    elif dia>=22 and dia<=31 and mes==8 or dia>=1 and dia<=22 and mes==9:\n",
    "       print \"virgem\"\n",
    "    elif dia>=22 and dia<=30 and mes==9 or dia>=1 and dia<=22 and mes==10:\n",
    "       print \"libra\"\n",
    "    elif dia>=23 and dia <=31 and mes==10 or dia>=1 and dia<=21 and mes==11:\n",
    "       print \"escorpiao\"\n",
    "    elif dia>=22 and dia<=30 and mes==11 or dia>=1 and dia<=21 and mes==12:\n",
    "       print \"sagitario\"\n",
    "    elif dia>=22 and dia<=31 and mes==12 or dia>=1 and dia<=20 and mes==1:\n",
    "      print \"capricornio\"\n",
    "    elif dia>=21 and dia<=31 and mes==1 or dia>=1 and dia<=18 and mes==2:\n",
    "      print \"aquario\"\n",
    "    elif dia>=19 and dia<=29 and mes==2 or dia>=1 and dia<=19 and mes==3:\n",
    "      print \"peixes\"\n",
    "    else:\n",
    "  print \"mes ou dia invalido\""
   ]
  }
 ],
 "metadata": {
  "kernelspec": {
   "display_name": "Python 3",
   "language": "python",
   "name": "python3"
  },
  "language_info": {
   "codemirror_mode": {
    "name": "ipython",
    "version": 3
   },
   "file_extension": ".py",
   "mimetype": "text/x-python",
   "name": "python",
   "nbconvert_exporter": "python",
   "pygments_lexer": "ipython3",
   "version": "3.7.0"
  },
  "latex_envs": {
   "LaTeX_envs_menu_present": true,
   "autoclose": false,
   "autocomplete": true,
   "bibliofile": "biblio.bib",
   "cite_by": "apalike",
   "current_citInitial": 1,
   "eqLabelWithNumbers": true,
   "eqNumInitial": 1,
   "hotkeys": {
    "equation": "Ctrl-E",
    "itemize": "Ctrl-I"
   },
   "labels_anchors": false,
   "latex_user_defs": false,
   "report_style_numbering": false,
   "user_envs_cfg": false
  },
  "toc": {
   "base_numbering": 1,
   "nav_menu": {},
   "number_sections": true,
   "sideBar": true,
   "skip_h1_title": false,
   "title_cell": "Table of Contents",
   "title_sidebar": "Contents",
   "toc_cell": false,
   "toc_position": {},
   "toc_section_display": true,
   "toc_window_display": false
  },
  "varInspector": {
   "cols": {
    "lenName": 16,
    "lenType": 16,
    "lenVar": 40
   },
   "kernels_config": {
    "python": {
     "delete_cmd_postfix": "",
     "delete_cmd_prefix": "del ",
     "library": "var_list.py",
     "varRefreshCmd": "print(var_dic_list())"
    },
    "r": {
     "delete_cmd_postfix": ") ",
     "delete_cmd_prefix": "rm(",
     "library": "var_list.r",
     "varRefreshCmd": "cat(var_dic_list()) "
    }
   },
   "types_to_exclude": [
    "module",
    "function",
    "builtin_function_or_method",
    "instance",
    "_Feature"
   ],
   "window_display": false
  }
 },
 "nbformat": 4,
 "nbformat_minor": 4
}
